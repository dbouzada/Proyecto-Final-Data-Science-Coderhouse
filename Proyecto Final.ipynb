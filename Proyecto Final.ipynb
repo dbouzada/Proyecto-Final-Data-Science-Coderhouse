{
 "cells": [
  {
   "cell_type": "markdown",
   "id": "84da4234-ac24-4960-b903-95b0d0019b1e",
   "metadata": {
    "id": "84da4234-ac24-4960-b903-95b0d0019b1e",
    "tags": []
   },
   "source": [
    "\n",
    "# PROYECTO FINAL Data Science CoderHouse 🧑🏾‍\n",
    "\n",
    "## Problema y Objetivos de la investigación ​🧠\n",
    "\n",
    "### Nos proponemos otorgarle a nuestro cliente un modelo de predicción sobre el tiempo de recorrido por usuario entre la estación de origen y la de destino, clasificandolo como **viaje corto o viaje largo.**\n",
    "\n",
    "##### Además, este modelo será útil para responder lo siguiente:\n",
    "##### ​✔️​¿Cuáles son las estaciones más utilizadas?\n",
    "##### ​✔️​¿Qué rasgos tienen los clientes habituales? Edad, Sexo.\n",
    "\n",
    "#### Los datos fueron recolectadas de la pagina del gobierno de la ciudad, el link de dicha fuente es el siguiente:\n",
    "#### https://data.buenosaires.gob.ar/dataset/bicicletas-publicas\n",
    "\n",
    "##### Fecha de publicación10 de Mayo de 2021 - Fecha de actualización10 de Diciembre de 2021\n",
    "***\n",
    "***\n",
    "***"
   ]
  },
  {
   "cell_type": "markdown",
   "id": "c6ed1a6c-a330-44aa-addc-96e92add6d0e",
   "metadata": {
    "tags": []
   },
   "source": [
    "### ☑️ Trabajo inicial para la creación del Dataset / Data Adquisition\n",
    "***\n",
    "\n",
    "#### 👉 Las siguientes líneas de código son las que realizamos para la adquisición de los datos y la creación del dataset que usaremos.\n",
    "#### 👉 Los archivos están disponibles en los siguientes en el siguiente link:\n",
    "\n",
    "https://data.buenosaires.gob.ar/dataset/bicicletas-publicas¶\n",
    "\n",
    "### Adjuntamos ademas el dataset final en csv en el siguiente paso.\n",
    "***\n",
    "\n",
    "#### El proceso para la creación del dataset final, consto de varios pasos realizados en Python:\n",
    "* Se cargaron los datasets de Usuarios desde el 2015 al 2020.\n",
    "* Se cargaron los dataset de recorridos desde el 2018 al 2020.\n",
    "* Se normalizaron todos los datos de las tablas, para luego unirlos y generar el dataset a utilizar.\n"
   ]
  },
  {
   "cell_type": "code",
   "execution_count": null,
   "id": "333b6fc4-e87e-46b3-bc33-f49ffef04456",
   "metadata": {},
   "outputs": [],
   "source": [
    "import pandas as pd\n",
    "from datetime import timedelta"
   ]
  },
  {
   "cell_type": "markdown",
   "id": "46d36335-9d1f-4bad-bf5a-f514bd6c5de3",
   "metadata": {
    "tags": []
   },
   "source": [
    "#### Primero se recolecto la informacion sobre los usuarios creados de Ecobici desde 2015 a 2020\n",
    "#### Se cargaron los usuarios de 2020 y se procesan los datos para normarlizarlos con los demas años.\n"
   ]
  },
  {
   "cell_type": "code",
   "execution_count": null,
   "id": "d0377a26-99d3-4658-a031-8a2e66f88320",
   "metadata": {},
   "outputs": [],
   "source": [
    "usuarios2020 = pd.read_csv(\"usuarios_ecobici_2020.csv\", sep=\",\")\n",
    "usuarios2020 = usuarios2020.drop(['fecha_alta', 'hora_alta'], axis=1)\n",
    "usuarios2020 = usuarios2020.query(\"genero_usuario != 'OTRO'\")\n",
    "usuarios2020 = usuarios2020.dropna()\n",
    "usuarios2020['edad_usuario'] = usuarios2020['edad_usuario'].astype(int)"
   ]
  },
  {
   "cell_type": "markdown",
   "id": "4f00b70d-ed17-48fc-82ab-89438a0f803b",
   "metadata": {},
   "source": [
    "#### Se cargaron los usuarios de 2019 y se procesan los datos para normarlizarlos con los demas años.\n"
   ]
  },
  {
   "cell_type": "code",
   "execution_count": null,
   "id": "6d0f1aa2-a6c2-43f2-9419-2947e91753d2",
   "metadata": {},
   "outputs": [],
   "source": [
    "usuarios2019 = pd.read_csv(\"usuarios_ecobici_2019.csv\", sep=\",\")\n",
    "usuarios2019 = usuarios2019.drop(['fecha_alta', 'hora_alta'], axis=1)\n",
    "usuarios2019 = usuarios2019.query(\"genero_usuario != 'OTHER'\")\n",
    "usuarios2019 = usuarios2019.dropna()\n",
    "usuarios2019['edad_usuario'] = usuarios2019['edad_usuario'].astype(int)\n",
    "usuarios2019['genero_usuario'] = usuarios2019['genero_usuario'].replace(\"MALE\", \"M\", regex = True)\n",
    "usuarios2019['genero_usuario'] = usuarios2019['genero_usuario'].replace(\"FEM\", \"F\", regex = True)"
   ]
  },
  {
   "cell_type": "markdown",
   "id": "af3d6f3b-f957-4480-a84f-00e8c9c6c002",
   "metadata": {},
   "source": [
    "#### Se cargaron los usuarios de 2018 y se procesan los datos para normarlizarlos con los demas años.\n"
   ]
  },
  {
   "cell_type": "code",
   "execution_count": null,
   "id": "1d8a2f86-e9e6-47ba-aa8e-32092238f53c",
   "metadata": {},
   "outputs": [],
   "source": [
    "usuarios2018 = pd.read_csv(\"usuarios-ecobici-2018.csv\", sep=\",\")\n",
    "usuarios2018 = usuarios2018.drop(['fecha_alta', 'hora_alta'], axis=1)\n",
    "usuarios2018 = usuarios2018.query(\"usuario_sexo != 'O'\")\n",
    "usuarios2018 = usuarios2018.set_axis(['id_usuario', 'genero_usuario' , 'edad_usuario'], axis=1)"
   ]
  },
  {
   "cell_type": "markdown",
   "id": "e9ca91a1-e9fe-4389-871c-29c97864ec5c",
   "metadata": {},
   "source": [
    "#### Se cargaron los usuarios de 2015 a 2017 y se procesan los datos para normarlizarlos con los demas años.\n"
   ]
  },
  {
   "cell_type": "code",
   "execution_count": null,
   "id": "d2753a52-c24a-4a49-9b6c-b69331a406f9",
   "metadata": {},
   "outputs": [],
   "source": [
    "usuarios2017 = pd.read_csv(\"usuarios-ecobici-2017.csv\", sep=\",\")\n",
    "usuarios2017 = usuarios2017.drop(['fecha_alta', 'hora_alta'], axis=1)\n",
    "usuarios2016 = pd.read_csv(\"usuarios-ecobici-2016.csv\", sep=\",\")\n",
    "usuarios2016 = usuarios2016.drop(['fecha_alta', 'hora_alta'], axis=1)\n",
    "usuarios2015 = pd.read_csv(\"usuarios-ecobici-2015.csv\", sep=\",\")\n",
    "usuarios2015 = usuarios2015.drop(['fecha_alta', 'hora_alta'], axis=1)"
   ]
  },
  {
   "cell_type": "markdown",
   "id": "f2160ccf-0126-4785-b2a2-ea4bb3822264",
   "metadata": {},
   "source": [
    "#### Se contatenan los usuarios creados de 2015 a 2017\n"
   ]
  },
  {
   "cell_type": "code",
   "execution_count": null,
   "id": "d521c876-fd97-400b-9d59-0127865a829f",
   "metadata": {},
   "outputs": [],
   "source": [
    "users2015a2017 = pd.concat([usuarios2015,usuarios2016,usuarios2017])\n",
    "users2015a2017 = users2015a2017.dropna()\n",
    "users2015a2017 = users2015a2017.drop_duplicates(subset=['usuario_id'])"
   ]
  },
  {
   "cell_type": "markdown",
   "id": "219cc06a-a39d-404f-9789-1f9698ecf8ad",
   "metadata": {},
   "source": [
    "#### Se contatenan los usuarios creados de 2018 a 2020\n"
   ]
  },
  {
   "cell_type": "code",
   "execution_count": null,
   "id": "fd6d21bf-f7b4-4897-aa2a-25fad67dadef",
   "metadata": {},
   "outputs": [],
   "source": [
    "users2018a2020 = pd.concat([usuarios2018,usuarios2019,usuarios2020])\n",
    "users2018a2020 = users2018a2020.dropna()\n",
    "users2018a2020 = users2018a2020.drop_duplicates(subset=['id_usuario'])"
   ]
  },
  {
   "cell_type": "markdown",
   "id": "a5b6df52-9a5e-4950-8ac4-11e171e0301e",
   "metadata": {},
   "source": [
    "#### Se normaliza y se genera un unico dataset de 2015 a 2020, el cual se guarda en un csv para ser utilizado luego\n"
   ]
  },
  {
   "cell_type": "code",
   "execution_count": null,
   "id": "2af2e994-f12c-4ee0-9eee-e99d11b3cae7",
   "metadata": {},
   "outputs": [],
   "source": [
    "users2015a2017 = users2015a2017.set_axis(['id_usuario', 'genero_usuario' , 'edad_usuario'], axis=1)\n",
    "users2015a2020 = pd.concat([users2015a2017,users2018a2020])\n",
    "users2015a2020 = users2015a2020.drop_duplicates(subset=['id_usuario'])\n",
    "users2015a2020 = users2015a2020.set_index('id_usuario')\n",
    "users2015a2020.to_csv('usuarios_ecobici.csv', sep=\",\")"
   ]
  },
  {
   "cell_type": "markdown",
   "id": "501ba1e5-bb51-4272-a4c9-a0af4c08975d",
   "metadata": {},
   "source": [
    "#### Una vez realizado el dataset de usuarios se recolecto la informacion sobre los recorridos de 2018 a 2020, a la cual se le suma la informacion de los usuarios creada anteriormente"
   ]
  },
  {
   "cell_type": "markdown",
   "id": "cbd6bf0e-d1b4-436f-99b0-0e9b597c9442",
   "metadata": {},
   "source": [
    "#### Se cargaron los recorridos de 2019 y se procesan los datos para normarlizarlos con los demas años.\n"
   ]
  },
  {
   "cell_type": "code",
   "execution_count": null,
   "id": "23cff058-1ed2-4fab-ba2f-45b94d7e2e4f",
   "metadata": {},
   "outputs": [],
   "source": [
    "eco2019 = pd.read_csv(\"recorridos-realizados-2019.csv\", sep=\",\")\n",
    "eco2019 = eco2019.drop(['id_recorrido', 'duracion_recorrido', 'direccion_estacion_origen', 'long_estacion_origen','lat_estacion_origen', 'direccion_estacion_destino', 'long_estacion_destino', 'lat_estacion_destino', 'modelo_bicicleta'], axis=1)\n",
    "eco2019 = eco2019.dropna()\n",
    "eco2019['id_usuario'] = eco2019['id_usuario'].str.rstrip('BAEcobici')\n",
    "eco2019['id_usuario'] = eco2019['id_usuario'].astype('int')\n",
    "eco2019['id_estacion_origen'] = eco2019['id_estacion_origen'].str.rstrip('BAEcobici')\n",
    "eco2019['id_estacion_origen'] = eco2019['id_estacion_origen'].astype('int')\n",
    "eco2019['id_estacion_destino'] = eco2019['id_estacion_destino'].str.rstrip('BAEcobici')\n",
    "eco2019['id_estacion_destino'] = eco2019['id_estacion_destino'].astype('int')\n",
    "eco2019[\"fecha_origen_recorrido\"] = pd.to_datetime(eco2019[\"fecha_origen_recorrido\"],format=\"%Y-%m-%d %H:%M:%S UTC\")\n",
    "eco2019[\"fecha_destino_recorrido\"] = pd.to_datetime(eco2019[\"fecha_destino_recorrido\"],format=\"%Y-%m-%d %H:%M:%S UTC\")"
   ]
  },
  {
   "cell_type": "markdown",
   "id": "e6744fe1-9539-4026-9f60-ac1d34307f17",
   "metadata": {},
   "source": [
    "#### Se cargaron los recorridos de 2020 y se procesan los datos para normarlizarlos con los demas años."
   ]
  },
  {
   "cell_type": "code",
   "execution_count": null,
   "id": "5b2c7daf-c0a9-49b2-8270-b95b4a132d9a",
   "metadata": {},
   "outputs": [],
   "source": [
    "eco2020 = pd.read_csv(\"trips_2020.csv\", sep=\",\")\n",
    "eco2020 = eco2020.drop(['id_recorrido', 'duracion_recorrido', 'direccion_estacion_origen', 'long_estacion_origen','lat_estacion_origen', \n",
    "                        'direccion_estacion_destino', 'long_estacion_destino', 'lat_estacion_destino', 'modelo_bicicleta'], axis=1)\n",
    "eco2020 = eco2020.dropna()\n",
    "eco2020['id_usuario'] = eco2020['id_usuario'].str.rstrip('BAEcobici')\n",
    "eco2020['id_usuario'] = eco2020['id_usuario'].astype('int')\n",
    "eco2020['id_estacion_origen'] = eco2020['id_estacion_origen'].str.rstrip('BAEcobici')\n",
    "eco2020['id_estacion_origen'] = eco2020['id_estacion_origen'].astype('int')\n",
    "eco2020['id_estacion_destino'] = eco2020['id_estacion_destino'].str.rstrip('BAEcobici')\n",
    "eco2020['id_estacion_destino'] = eco2020['id_estacion_destino'].astype('int')\n",
    "eco2020[\"fecha_origen_recorrido\"] = pd.to_datetime(eco2020[\"fecha_origen_recorrido\"],format=\"%Y-%m-%d %H:%M:%S UTC\")\n",
    "eco2020[\"fecha_destino_recorrido\"] = pd.to_datetime(eco2020[\"fecha_destino_recorrido\"],format=\"%Y-%m-%d %H:%M:%S UTC\")"
   ]
  },
  {
   "cell_type": "markdown",
   "id": "6de5d793-5954-418a-8982-5428a442836e",
   "metadata": {},
   "source": [
    "#### Se cargaron los recorridos de 2018 y se procesan los datos para normarlizarlos con los demas años.\n"
   ]
  },
  {
   "cell_type": "code",
   "execution_count": null,
   "id": "3e7fd91e-d93f-4d2c-ac50-08da7c43ee41",
   "metadata": {},
   "outputs": [],
   "source": [
    "eco2018 = pd.read_csv(\"recorridos-realizados-2018.csv\", sep=\",\")\n",
    "eco2018 = eco2018.dropna()\n",
    "eco2018 = eco2018.drop(['periodo', 'duracion_recorrido', 'domicilio_estacion_origen', 'long_estacion_origen','lat_estacion_origen', 'domicilio_estacion_destino', 'long_estacion_destino', 'lat_estacion_destino', 'genero_usuario'], axis=1)\n",
    "eco2018 = eco2018.set_axis(['id_usuario', 'fecha_origen_recorrido','id_estacion_origen' , 'nombre_estacion_origen', 'fecha_destino_recorrido', 'id_estacion_destino', 'nombre_estacion_destino'], axis=1)\n",
    "eco2018['id_estacion_origen'] = eco2018['id_estacion_origen'].astype('int')\n",
    "eco2018['id_estacion_destino'] = eco2018['id_estacion_destino'].astype('int')\n",
    "eco2018 = eco2018.reindex(columns=['fecha_origen_recorrido' ,'id_estacion_origen', 'nombre_estacion_origen', 'fecha_destino_recorrido', 'id_estacion_destino', 'nombre_estacion_destino', 'id_usuario'])\n",
    "eco2018[\"fecha_origen_recorrido\"] = pd.to_datetime(eco2018[\"fecha_origen_recorrido\"],format=\"%Y-%m-%d %H:%M:%S\")\n",
    "eco2018[\"fecha_destino_recorrido\"] = pd.to_datetime(eco2018[\"fecha_destino_recorrido\"],format=\"%Y-%m-%d %H:%M:%S\")"
   ]
  },
  {
   "cell_type": "markdown",
   "id": "928e9515-694d-4856-b4ae-c7d46e825ea3",
   "metadata": {},
   "source": [
    "#### Se concatenan y se forma un unico dataset de 2018 a 2020\n"
   ]
  },
  {
   "cell_type": "code",
   "execution_count": null,
   "id": "552543a3-8046-400e-85d1-13f8adc2ee3e",
   "metadata": {},
   "outputs": [],
   "source": [
    "eco2018a2020 = pd.concat([eco2018,eco2019,eco2020]).set_index('id_usuario')"
   ]
  },
  {
   "cell_type": "markdown",
   "id": "a3b44598-bbf4-4173-8454-3b9a60ce6cd0",
   "metadata": {},
   "source": [
    "#### Se carga la informacion de usuarios y se unifica el dataset con los recorridos\n"
   ]
  },
  {
   "cell_type": "code",
   "execution_count": null,
   "id": "9ee283be-bfb2-449e-ba4b-36d0c1edeb3a",
   "metadata": {},
   "outputs": [],
   "source": [
    "usuarios = pd.read_csv(\"usuarios_ecobici.csv\", sep=\",\")\n",
    "eco2018a2020 = eco2018a2020.merge(usuarios, on='id_usuario')\n",
    "eco2018a2020 = eco2018a2020.dropna()"
   ]
  },
  {
   "cell_type": "markdown",
   "id": "8bc9b780-391a-4795-84aa-061c5889088e",
   "metadata": {},
   "source": [
    "#### Se calcula y agrega el tiempo de recorrido, finalmente se genera el csv a trabajar\n"
   ]
  },
  {
   "cell_type": "code",
   "execution_count": null,
   "id": "435794ae-8a54-4316-8c6e-fa8b4b374415",
   "metadata": {
    "tags": []
   },
   "outputs": [],
   "source": [
    "eco2018a2020[\"tiempo_recorrido\"] = (eco2018a2020[\"fecha_destino_recorrido\"] - eco2018a2020[\"fecha_origen_recorrido\"])\n",
    "eco2018a2020[\"tiempo_recorrido\"] = eco2018a2020[\"tiempo_recorrido\"].dt.components['minutes']\n",
    "eco2018a2020 = eco2018a2020.set_index('id_usuario')\n",
    "eco2018a2020.to_csv('ecoBici2018a2020v2.csv', sep=\",\")"
   ]
  },
  {
   "cell_type": "markdown",
   "id": "c147e1da-7a38-40c9-b691-3c0972c454de",
   "metadata": {},
   "source": [
    "*** "
   ]
  },
  {
   "cell_type": "markdown",
   "id": "1bfa3894-3c35-4710-bd33-f9b9dc68f44a",
   "metadata": {
    "id": "1bfa3894-3c35-4710-bd33-f9b9dc68f44a"
   },
   "source": [
    "### 🔴 Comenzamos con el Análisis del conjunto de datos y relación entre sus variables\n",
    "##### Aqui importamos en una línea de código el dataset confeccionado en el trabajo previo.\n"
   ]
  },
  {
   "cell_type": "code",
   "execution_count": null,
   "id": "ac3bba41-8583-4ebf-a662-5c758d2edb29",
   "metadata": {
    "id": "ac3bba41-8583-4ebf-a662-5c758d2edb29"
   },
   "outputs": [],
   "source": [
    "#Importamos las librerias\n",
    "\n",
    "# Operaciones Basicas\n",
    "import pandas as pd\n",
    "import numpy as np\n",
    "import pandas_profiling\n",
    "\n",
    "# Visualizacion de Datos\n",
    "import matplotlib.pyplot as plt\n",
    "import seaborn as sns\n",
    "import plotly.express as px\n",
    "\n",
    "import warnings\n",
    "warnings.filterwarnings('ignore')"
   ]
  },
  {
   "cell_type": "code",
   "execution_count": null,
   "id": "cf2cc2d0-6020-4a99-8016-69e2f7af865b",
   "metadata": {
    "colab": {
     "base_uri": "https://localhost:8080/",
     "height": 288
    },
    "executionInfo": {
     "elapsed": 10618,
     "status": "ok",
     "timestamp": 1658494880250,
     "user": {
      "displayName": "Diego Bouzada",
      "userId": "10036084070049142994"
     },
     "user_tz": 180
    },
    "id": "cf2cc2d0-6020-4a99-8016-69e2f7af865b",
    "outputId": "c176c69c-bf50-4351-e9f6-74429292860c"
   },
   "outputs": [],
   "source": [
    "df_bicis = pd.read_csv (\"ecoBici2018a2020v2.csv\")\n",
    "df_bicis.head ()"
   ]
  },
  {
   "cell_type": "markdown",
   "id": "578d7701-db4c-4aa7-ada2-4270a887018d",
   "metadata": {
    "id": "578d7701-db4c-4aa7-ada2-4270a887018d"
   },
   "source": [
    "### 🔴 Iniciamos el EDA \n",
    "*En primer lugar realizamos una revisión de cantidad de registros, presencia de nulos y outliers*\n"
   ]
  },
  {
   "cell_type": "code",
   "execution_count": null,
   "id": "741ad65c-3c20-4ddc-83eb-64ea9fa25449",
   "metadata": {
    "colab": {
     "base_uri": "https://localhost:8080/"
    },
    "executionInfo": {
     "elapsed": 32,
     "status": "ok",
     "timestamp": 1658494880254,
     "user": {
      "displayName": "Diego Bouzada",
      "userId": "10036084070049142994"
     },
     "user_tz": 180
    },
    "id": "741ad65c-3c20-4ddc-83eb-64ea9fa25449",
    "outputId": "113c5a0c-b068-41eb-d24d-12eaa3393a4e"
   },
   "outputs": [],
   "source": [
    "print('Este data set tiene ' + str(df_bicis.shape[0]) + ' filas, y ' + str(df_bicis.shape[1]) + ' columnas')"
   ]
  },
  {
   "cell_type": "code",
   "execution_count": null,
   "id": "e1b21459-8d87-425d-a760-722b94200214",
   "metadata": {
    "colab": {
     "base_uri": "https://localhost:8080/"
    },
    "executionInfo": {
     "elapsed": 1350,
     "status": "ok",
     "timestamp": 1658494881587,
     "user": {
      "displayName": "Diego Bouzada",
      "userId": "10036084070049142994"
     },
     "user_tz": 180
    },
    "id": "e1b21459-8d87-425d-a760-722b94200214",
    "outputId": "bd6709f3-c046-4111-fb30-5d78d49affd6"
   },
   "outputs": [],
   "source": [
    "df_bicis.isnull().sum()"
   ]
  },
  {
   "cell_type": "markdown",
   "id": "f93855fd-9221-4f47-92f7-61d1a6abb158",
   "metadata": {
    "id": "f93855fd-9221-4f47-92f7-61d1a6abb158"
   },
   "source": [
    "### 🔴 Tomamos las principales estadisticas del dataset y de esta manera detectamos algunos valores atípicos en la variable edad y tiempo recorrido.\n",
    "En las siguientes líneas veremos en gráficos los valores atípicos, haremos un proceso de limpieza de ellos, y veremos en gráficos como quedan ambas variables sin la presencia de los valores.\n"
   ]
  },
  {
   "cell_type": "code",
   "execution_count": null,
   "id": "c386c22e-4595-4b48-b9eb-a0d515398302",
   "metadata": {
    "colab": {
     "base_uri": "https://localhost:8080/",
     "height": 206
    },
    "executionInfo": {
     "elapsed": 137,
     "status": "ok",
     "timestamp": 1658494881588,
     "user": {
      "displayName": "Diego Bouzada",
      "userId": "10036084070049142994"
     },
     "user_tz": 180
    },
    "id": "c386c22e-4595-4b48-b9eb-a0d515398302",
    "outputId": "af7e1e1f-c2ce-4896-bb3b-00a7c253998e"
   },
   "outputs": [],
   "source": [
    "df_bicis.describe().T"
   ]
  },
  {
   "cell_type": "code",
   "execution_count": null,
   "id": "9ad03cd4-c35f-4832-8045-5be3d27ea0fb",
   "metadata": {
    "colab": {
     "base_uri": "https://localhost:8080/",
     "height": 499
    },
    "executionInfo": {
     "elapsed": 124,
     "status": "ok",
     "timestamp": 1658494881590,
     "user": {
      "displayName": "Diego Bouzada",
      "userId": "10036084070049142994"
     },
     "user_tz": 180
    },
    "id": "9ad03cd4-c35f-4832-8045-5be3d27ea0fb",
    "outputId": "28e80757-be62-478f-914a-3b94c19c1475"
   },
   "outputs": [],
   "source": [
    "plt.figure(figsize=(8, 8))\n",
    "sns.boxplot(data=df_bicis.edad_usuario, orient=\"v\", color=\"Violet\").set_title('Grafico de cajas de Edad Usuario')\n",
    "plt.show()"
   ]
  },
  {
   "cell_type": "markdown",
   "id": "3fe696f7-eb2e-4a55-b791-639514913a0c",
   "metadata": {
    "id": "3fe696f7-eb2e-4a55-b791-639514913a0c"
   },
   "source": [
    "### 🔴 Quitamos de las variables edad usuario y tiempo recorrido, los valores atípicos, y creamos un nuevo DF para trabajar.\n"
   ]
  },
  {
   "cell_type": "code",
   "execution_count": null,
   "id": "bad75034-ffa6-400f-ae4a-803132abe9dd",
   "metadata": {
    "colab": {
     "base_uri": "https://localhost:8080/"
    },
    "executionInfo": {
     "elapsed": 579,
     "status": "ok",
     "timestamp": 1658494882051,
     "user": {
      "displayName": "Diego Bouzada",
      "userId": "10036084070049142994"
     },
     "user_tz": 180
    },
    "id": "bad75034-ffa6-400f-ae4a-803132abe9dd",
    "outputId": "d7142f9d-3c8e-44bf-da49-47b3239b9d81"
   },
   "outputs": [],
   "source": [
    "upper_lim = df_bicis['edad_usuario'].quantile(.96)\n",
    "print(upper_lim)\n",
    "lower_lim = df_bicis['edad_usuario'].quantile(.04)\n",
    "print(lower_lim)\n",
    "\n",
    "df_bicis[(df_bicis['edad_usuario'] >= upper_lim) | (df_bicis['edad_usuario'] <= lower_lim)].shape\n",
    "\n",
    "df_bicis2 = df_bicis[(df_bicis['edad_usuario'] <= upper_lim) & (df_bicis['edad_usuario'] >= lower_lim)]"
   ]
  },
  {
   "cell_type": "markdown",
   "id": "63fd8f89-c325-48ce-a88e-9ca2f9d93241",
   "metadata": {
    "id": "63fd8f89-c325-48ce-a88e-9ca2f9d93241"
   },
   "source": [
    "# Observamos como queda el dataset comparando estos dos gráficos.\n"
   ]
  },
  {
   "cell_type": "code",
   "execution_count": null,
   "id": "05b6c31b-2553-4b90-8e7c-625e9d001f59",
   "metadata": {
    "colab": {
     "base_uri": "https://localhost:8080/",
     "height": 575
    },
    "executionInfo": {
     "elapsed": 2421,
     "status": "ok",
     "timestamp": 1658494884409,
     "user": {
      "displayName": "Diego Bouzada",
      "userId": "10036084070049142994"
     },
     "user_tz": 180
    },
    "id": "05b6c31b-2553-4b90-8e7c-625e9d001f59",
    "outputId": "2dc78521-314d-41a0-a55d-9657e264d2c3"
   },
   "outputs": [],
   "source": [
    "plt.figure(figsize=(20, 4))\n",
    "sns.countplot(x='edad_usuario', data= df_bicis2, palette=\"Set2\").set(title='Grafico de Edad sin outliers')\n",
    "plt.show()\n",
    "\n",
    "plt.figure(figsize=(20, 4))\n",
    "sns.countplot(x='edad_usuario', data= df_bicis, palette=\"Set2\").set(title='Grafico de Edad con outliers')\n",
    "plt.show()"
   ]
  },
  {
   "cell_type": "markdown",
   "id": "714085ac-f137-418a-b18a-c96957682c0f",
   "metadata": {
    "id": "714085ac-f137-418a-b18a-c96957682c0f"
   },
   "source": [
    "### 🔴 Realizamos el mismo trabajo con la variable \"tiempo_recorrido\" donde podemos ver hay valores con 0, lo pudimos ver con el describe, y sumamos este gráfico para observarlo.\n",
    "Luego limpiamos los valores y observamos las diferencias entre lo \"viejo\" y \"nuevo\" con gráficos\n"
   ]
  },
  {
   "cell_type": "code",
   "execution_count": null,
   "id": "b1a02925-79ad-4ac1-b2ad-f8db1b8706f5",
   "metadata": {
    "colab": {
     "base_uri": "https://localhost:8080/",
     "height": 499
    },
    "executionInfo": {
     "elapsed": 27,
     "status": "ok",
     "timestamp": 1658494884410,
     "user": {
      "displayName": "Diego Bouzada",
      "userId": "10036084070049142994"
     },
     "user_tz": 180
    },
    "id": "b1a02925-79ad-4ac1-b2ad-f8db1b8706f5",
    "outputId": "05893d04-17bd-4498-a400-21c2a5b026c1"
   },
   "outputs": [],
   "source": [
    "plt.figure(figsize=(8, 8))\n",
    "sns.boxplot(data=df_bicis.tiempo_recorrido, orient=\"v\", color=\"green\").set_title('Grafico de cajas de Tiempo recorrido')\n",
    "plt.show()"
   ]
  },
  {
   "cell_type": "code",
   "execution_count": null,
   "id": "62a9e421-8ef0-4798-815a-97a64db530c6",
   "metadata": {
    "colab": {
     "base_uri": "https://localhost:8080/",
     "height": 323
    },
    "executionInfo": {
     "elapsed": 1214,
     "status": "ok",
     "timestamp": 1658494885607,
     "user": {
      "displayName": "Diego Bouzada",
      "userId": "10036084070049142994"
     },
     "user_tz": 180
    },
    "id": "62a9e421-8ef0-4798-815a-97a64db530c6",
    "outputId": "de9d2759-defa-4a5f-a4f5-1d658a878c2e"
   },
   "outputs": [],
   "source": [
    "upper_lim2 = df_bicis2['tiempo_recorrido'].quantile(.98)\n",
    "print(upper_lim2)\n",
    "lower_lim2 = df_bicis2['tiempo_recorrido'].quantile(.005)\n",
    "print(lower_lim2)\n",
    "\n",
    "df_bicis2[(df_bicis2['tiempo_recorrido'] > upper_lim2) | (df_bicis2['tiempo_recorrido'] < lower_lim2)].shape\n",
    "\n",
    "df_bicis3 = df_bicis2[(df_bicis2['tiempo_recorrido'] < upper_lim2) & (df_bicis2['tiempo_recorrido'] > lower_lim2)]\n",
    "df_bicis3.head()   "
   ]
  },
  {
   "cell_type": "code",
   "execution_count": null,
   "id": "e2d21bfc-e7dc-41ac-ab02-ddb5dcb7bea6",
   "metadata": {
    "colab": {
     "base_uri": "https://localhost:8080/",
     "height": 592
    },
    "executionInfo": {
     "elapsed": 1703,
     "status": "ok",
     "timestamp": 1658494887292,
     "user": {
      "displayName": "Diego Bouzada",
      "userId": "10036084070049142994"
     },
     "user_tz": 180
    },
    "id": "e2d21bfc-e7dc-41ac-ab02-ddb5dcb7bea6",
    "outputId": "2bcd58b3-7a2e-4ab2-9a96-39e96e8bf5d3"
   },
   "outputs": [],
   "source": [
    "plt.figure(figsize=(18, 4))\n",
    "sns.countplot(x='tiempo_recorrido', data= df_bicis3, palette=\"Set3\").set(title='Grafico de tiempo recorrido sin outliers')\n",
    "plt.show()\n",
    "\n",
    "plt.figure(figsize=(18, 4))\n",
    "sns.countplot(x='tiempo_recorrido', data= df_bicis, palette=\"Set3\").set(title='Grafico de tiempo recorrido con outliers')\n",
    "#plt.show()"
   ]
  },
  {
   "cell_type": "markdown",
   "id": "27240253-d5ec-4cad-8e10-f892f74e4770",
   "metadata": {
    "id": "27240253-d5ec-4cad-8e10-f892f74e4770"
   },
   "source": [
    "## 🔴 Pandas Profiling - complemento EDA\n",
    "\n",
    "Utilizamos Pandas Profiling para un análisis completo de cada variable.\n",
    "\n",
    "Aqui instalamos las dependencias de Pandas Profiling para la creación de un documento HTML con información detallada de nuestro Dataset.\n"
   ]
  },
  {
   "cell_type": "code",
   "execution_count": null,
   "id": "a195ae07-25e7-4eb2-a541-c841465ac1d0",
   "metadata": {
    "colab": {
     "base_uri": "https://localhost:8080/",
     "height": 345
    },
    "executionInfo": {
     "elapsed": 43207,
     "status": "error",
     "timestamp": 1658494930489,
     "user": {
      "displayName": "Diego Bouzada",
      "userId": "10036084070049142994"
     },
     "user_tz": 180
    },
    "id": "15e0f5b0",
    "outputId": "0506bc1d-f03f-4974-a758-5e0e5c55d28b"
   },
   "outputs": [],
   "source": [
    "#Data Profiling\n",
    "profile = pandas_profiling.ProfileReport(df_bicis3)\n",
    "profile.to_notebook_iframe()"
   ]
  },
  {
   "cell_type": "markdown",
   "id": "1203f5a2-c524-422c-9a99-c54790e9dd83",
   "metadata": {
    "id": "1203f5a2-c524-422c-9a99-c54790e9dd83"
   },
   "source": [
    "### 🔴 Insigth de Pandas Profiling \n",
    "\n",
    "Encontramos diferencias en la cantidad de valores diferentes en los nombres de estaciones e ID. Esto se debe a que de acuerdo a cada año se cargaban diferente los nombres de las estaciones, algunas con mayúsculas, otras con el número de ID dentro del texto.\n",
    "Por ese motivo usaremos las variables de ID Estacion Origen y Destino, para los análisis y Algoritmos.\n",
    "\n",
    "Las variables de ID Estacion Origen y Destino son variables catégoricas que figuran como númericas.\n",
    "\n",
    "***\n",
    "***\n",
    "\n",
    "    "
   ]
  },
  {
   "cell_type": "markdown",
   "id": "b0d9c7f6-5851-427c-bda6-c0bc7f8a1c12",
   "metadata": {
    "id": "b0d9c7f6-5851-427c-bda6-c0bc7f8a1c12"
   },
   "source": [
    "### 🔴 Análisis de Variables\n",
    "Realizamos algunos gráficos para mostrar el dataset y ver la relación entre algunas variables"
   ]
  },
  {
   "cell_type": "markdown",
   "id": "3496ddc4-3c00-4e64-941a-4daee045249d",
   "metadata": {
    "id": "3496ddc4-3c00-4e64-941a-4daee045249d"
   },
   "source": [
    "### En este primer gráfico podemos ver el porcentaje por género de usuario\n",
    "***"
   ]
  },
  {
   "cell_type": "code",
   "execution_count": null,
   "id": "379d179c-7986-45d1-a5ed-f1340937113f",
   "metadata": {
    "id": "379d179c-7986-45d1-a5ed-f1340937113f"
   },
   "outputs": [],
   "source": [
    "fig = px.pie (df_bicis3, names = \"genero_usuario\", values =\"id_usuario\", hole=.3, title=\"Porcentaje por genero de usuario\",  width=400, height=400,\n",
    "              color_discrete_sequence=px.colors.sequential.RdBu)\n",
    "fig.show()"
   ]
  },
  {
   "cell_type": "markdown",
   "id": "a2f9ee88-b7f6-4bc9-9bf0-24535b1cc5b1",
   "metadata": {
    "id": "a2f9ee88-b7f6-4bc9-9bf0-24535b1cc5b1"
   },
   "source": [
    "### 🔴Graficamos un mapa de calor del Dataset para ver la relación entre variables"
   ]
  },
  {
   "cell_type": "code",
   "execution_count": null,
   "id": "f2648dad-e2f0-4b47-b303-67d030dc41ae",
   "metadata": {
    "id": "f2648dad-e2f0-4b47-b303-67d030dc41ae"
   },
   "outputs": [],
   "source": [
    "plt.rcParams['figure.figsize'] = (10, 10)\n",
    "sns.heatmap(df_bicis3.corr(), annot = True, cmap = 'Wistia')\n",
    "plt.title('Mapa de Calor del Dataset', fontsize = 20)\n",
    "plt.show()"
   ]
  },
  {
   "cell_type": "markdown",
   "id": "5714ea0b-f9bd-49e8-9475-d284e0952090",
   "metadata": {
    "id": "5714ea0b-f9bd-49e8-9475-d284e0952090"
   },
   "source": [
    "### 🔴 Con esta gráfica podemos apreciar que no existen relaciones altas entre variables, excepto entre estacion de origen y estacion de destino, con esto podemos entender que gran cantidad de viajes en bicicleta son entre las mismas estaciones de origen y recorrido.\n",
    "\n",
    "Al no encontrar relacion entre el resto de las variables, proponemos explorar el dataset en una muestra mas pequeña intentando buscar relacion. Para esto seleccionamos las 4 estaciones mas utilizadas en Origen y Destino, en base al value counts realizado debajo. Se han tomado solo 4 estaciones ya que son representativas de todo el dataset y tomar esta cantidad nos permite poder ver graficamente la relacion entre las variables, que seria imposible si las tomaramos todas (aproximadamente 200 estaciones)\n",
    "***"
   ]
  },
  {
   "cell_type": "code",
   "execution_count": null,
   "id": "ac88da03-7151-4a2f-9d4e-981cd7114e8c",
   "metadata": {
    "id": "ac88da03-7151-4a2f-9d4e-981cd7114e8c"
   },
   "outputs": [],
   "source": [
    "df_bicis3.id_estacion_origen.value_counts()"
   ]
  },
  {
   "cell_type": "code",
   "execution_count": null,
   "id": "0a6ba802-6e95-4188-8c79-01d5ffbabe74",
   "metadata": {
    "id": "0a6ba802-6e95-4188-8c79-01d5ffbabe74"
   },
   "outputs": [],
   "source": [
    "df_bicis3.id_estacion_destino.value_counts()"
   ]
  },
  {
   "cell_type": "markdown",
   "id": "118f368e-e942-48b2-b4da-965d8b90fabe",
   "metadata": {
    "id": "118f368e-e942-48b2-b4da-965d8b90fabe"
   },
   "source": [
    "***\n",
    "### 🔴Tomamos las 4 estaciones mas utilizadas de origen y destino para ver la relación entre variables, el nuevo dataframe se llamará df_estaciones\n",
    "\n",
    "Los nombres de las 4 estaciones: \n",
    "\n",
    "29 = Parque Centenario\n",
    "\n",
    "14 = Pacífico\n",
    "\n",
    "9 = Parque Las Heras\n",
    "\n",
    "33 = Plaza Italia\n",
    "\n",
    "***"
   ]
  },
  {
   "cell_type": "code",
   "execution_count": null,
   "id": "5617f9aa-a036-497d-8a21-7ff40fc5a342",
   "metadata": {
    "id": "5617f9aa-a036-497d-8a21-7ff40fc5a342"
   },
   "outputs": [],
   "source": [
    "df_estaciones = df_bicis3[df_bicis3.id_estacion_origen.isin([14 , 33 , 9, 29]) & \n",
    "               df_bicis3.id_estacion_destino.isin([14 , 33, 9, 29])]\n",
    "df_estaciones.head()"
   ]
  },
  {
   "cell_type": "markdown",
   "id": "7d0b6c31",
   "metadata": {
    "id": "7d0b6c31"
   },
   "source": [
    "### 🔴 Se normalizan las 4 estaciones para tener un unico nombre por cada estacion.\n"
   ]
  },
  {
   "cell_type": "code",
   "execution_count": null,
   "id": "444782b8",
   "metadata": {
    "id": "444782b8"
   },
   "outputs": [],
   "source": [
    "estaciones={'Parque Centenario':29,'Pacífico':14,'Parque Las Heras':9,'Plaza Italia':33}\n",
    "\n",
    "for nom_est,id_est in estaciones.items():\n",
    "    df_estaciones.loc[df_estaciones['id_estacion_origen'] == id_est, 'nombre_estacion_origen'] = nom_est\n",
    "    df_estaciones.loc[df_estaciones['id_estacion_destino'] == id_est, 'nombre_estacion_destino'] = nom_est\n",
    "\n",
    "df_estaciones.head()"
   ]
  },
  {
   "cell_type": "code",
   "execution_count": null,
   "id": "648203f9-e9b5-4764-8520-0cb11e5f1df8",
   "metadata": {
    "id": "648203f9-e9b5-4764-8520-0cb11e5f1df8"
   },
   "outputs": [],
   "source": [
    "print('El dataset con las 4 estaciones mas utilizadas de Origen y Destino tiene ' + str(df_estaciones.shape[0]) + ' filas, y ' + str(df_estaciones.shape[1]) + ' columnas')"
   ]
  },
  {
   "cell_type": "markdown",
   "id": "70a0bd50-918b-40d4-83cb-152b411cbaf7",
   "metadata": {
    "id": "70a0bd50-918b-40d4-83cb-152b411cbaf7"
   },
   "source": [
    "***\n",
    "### 🔴 Iniciamos el análisis de relación de variables mediante graficos."
   ]
  },
  {
   "cell_type": "code",
   "execution_count": null,
   "id": "4fc90476-3aaf-4273-8768-e7cc4bc8bbc6",
   "metadata": {
    "id": "4fc90476-3aaf-4273-8768-e7cc4bc8bbc6"
   },
   "outputs": [],
   "source": [
    "fig = px.pie (df_estaciones, names = \"nombre_estacion_origen\", values =\"tiempo_recorrido\",\n",
    "               width=600, height=400)\n",
    "         \n",
    "fig.show()"
   ]
  },
  {
   "cell_type": "markdown",
   "id": "75a23a37-85ca-4921-b368-42c52f1de3e5",
   "metadata": {
    "id": "75a23a37-85ca-4921-b368-42c52f1de3e5"
   },
   "source": [
    "### 🔴 Podemos ver en la gráfica de superior que las dos estaciones que con casi el 33% la estacion de Pacifico es la que mas tiempo de uso acumula\n",
    "### 🔴 Debajo realizaremos dos Scatter para evaluar la posibilidad de establecer clasificaciones. En el primero se evalúan las variables de Edad, tiempo y estaciones, donde no vemos claridad para poder hacer una clasificación\n"
   ]
  },
  {
   "cell_type": "code",
   "execution_count": null,
   "id": "a770453d-2fbd-4027-b452-b8e95c78aaf7",
   "metadata": {
    "id": "a770453d-2fbd-4027-b452-b8e95c78aaf7"
   },
   "outputs": [],
   "source": [
    "plt.figure (figsize = (10,8))\n",
    "sns.scatterplot(x=\"edad_usuario\", y=\"tiempo_recorrido\", hue =\"nombre_estacion_origen\", data=df_estaciones)\n",
    "plt.suptitle(\"Tiempo de recorrido y edad de usuario\", fontsize=20)\n",
    "\n",
    "plt.show()"
   ]
  },
  {
   "cell_type": "markdown",
   "id": "f0e778b0-b5a3-4c1a-a89a-5e65cc4032ec",
   "metadata": {
    "id": "f0e778b0-b5a3-4c1a-a89a-5e65cc4032ec"
   },
   "source": [
    "### 🔴 A continuación graficamos otro scatter para ver la relacion entre edad, tiempo recorrido y genero de usuario y no nos arroja claridad tampoco para una clasificación"
   ]
  },
  {
   "cell_type": "code",
   "execution_count": null,
   "id": "ac87a512-0a4d-496c-987b-66961cfb458b",
   "metadata": {
    "id": "ac87a512-0a4d-496c-987b-66961cfb458b"
   },
   "outputs": [],
   "source": [
    "plt.figure (figsize = (10,8))\n",
    "sns.scatterplot(x=\"edad_usuario\", y=\"tiempo_recorrido\", data=df_estaciones, hue = \"genero_usuario\")\n",
    "plt.title(\"Relacion edad de usuario y tiempo de recorrido por genero\", fontsize=20)\n",
    "\n",
    "plt.show()"
   ]
  },
  {
   "cell_type": "code",
   "execution_count": null,
   "id": "0d6ca486-a27b-42ee-bde8-753ffa9c4444",
   "metadata": {
    "id": "0d6ca486-a27b-42ee-bde8-753ffa9c4444"
   },
   "outputs": [],
   "source": [
    "df_estaciones_origen = df_estaciones.drop(['id_estacion_destino', \"id_usuario\",'id_estacion_origen'], axis=1)\n",
    "sns.pairplot (df_estaciones_origen, hue=\"nombre_estacion_origen\", height = 5 , palette = 'vlag')\n",
    "plt.show()"
   ]
  },
  {
   "cell_type": "markdown",
   "id": "e7ac7518-452a-4eb6-8101-6cfc650a225d",
   "metadata": {
    "id": "e7ac7518-452a-4eb6-8101-6cfc650a225d"
   },
   "source": [
    "#### 🔴 La diagonal del pairplot nos muestra como hay una mayor tendencia al uso de las bicicletas por los jovenes de 20 a 30 años, y que estos utilizan por mas tiempo las bicicletas que las personas mayores de esa edad\n",
    "***\n",
    "\n"
   ]
  },
  {
   "cell_type": "markdown",
   "id": "06bdc435-25b7-474b-9601-774b836a0e70",
   "metadata": {
    "id": "06bdc435-25b7-474b-9601-774b836a0e70"
   },
   "source": [
    "### 🔴 A contnuación podemos ver un grafico que cuenta el uso de las estaciones por genero de usuario.\n",
    "\n",
    "*Se puede ver como el genero masculino utiliza Pacifico como mismo origen y regreso en primer lugar, seguido por Parque Centenario\n",
    "En el caso del género femenino, se advierte una menor cantidad en el uso pero aún así en mayor medida se elige la misma estación de origen y destino. La mas usada por las mujeres es Parque Centenario*"
   ]
  },
  {
   "cell_type": "code",
   "execution_count": null,
   "id": "ab40c797-1146-4da5-8e4e-b4deb5693fe5",
   "metadata": {
    "id": "ab40c797-1146-4da5-8e4e-b4deb5693fe5"
   },
   "outputs": [],
   "source": [
    "plt.figure (figsize = (15,8))\n",
    "sns.catplot (x = \"nombre_estacion_origen\", kind = \"count\", data=df_estaciones , hue =\"nombre_estacion_destino\" , col = \"genero_usuario\", height=5)\n",
    "plt.show()"
   ]
  },
  {
   "cell_type": "markdown",
   "id": "8a694901-ea57-44c5-9a25-cbb5dfcc6f08",
   "metadata": {
    "id": "8a694901-ea57-44c5-9a25-cbb5dfcc6f08"
   },
   "source": [
    "### 🔴 Este es el mapa de correlación de nuestro dataset con una sola parte de la matriz."
   ]
  },
  {
   "cell_type": "code",
   "execution_count": null,
   "id": "d5ab392c-138a-4d51-91d8-fbcd590372cd",
   "metadata": {
    "id": "d5ab392c-138a-4d51-91d8-fbcd590372cd"
   },
   "outputs": [],
   "source": [
    "plt.figure(dpi = 120,figsize= (4,4))\n",
    "mask = np.triu(np.ones_like(df_estaciones.corr(),dtype = bool))\n",
    "sns.heatmap(df_estaciones.corr(),mask = mask, fmt = \".2f\",annot=True,lw=1,cmap = 'viridis')\n",
    "plt.yticks(rotation = 0)\n",
    "plt.xticks(rotation = 90)\n",
    "plt.title('Mapa de Correlación del DataSet')\n",
    "plt.show()"
   ]
  },
  {
   "cell_type": "markdown",
   "id": "5557757a",
   "metadata": {
    "id": "5557757a"
   },
   "source": [
    "### 🔴 Aqui podemos ver en los graficos que se repite el comportamiento de que el rango en el tiempo de uso es levemente mayor en las mujeres"
   ]
  },
  {
   "cell_type": "code",
   "execution_count": null,
   "id": "814e2c47-9243-421d-8d82-ce1fa1cdf9ae",
   "metadata": {
    "id": "814e2c47-9243-421d-8d82-ce1fa1cdf9ae"
   },
   "outputs": [],
   "source": [
    "# Aqui graficamos el tiempo de recorrido por estación de destino y sexo.\n",
    "\n",
    "plt.figure(figsize=(10,5))\n",
    "sns.boxplot(data=df_estaciones, x='nombre_estacion_destino', y='tiempo_recorrido', hue='genero_usuario', palette=\"Set2\")\n",
    "plt.title('Boxplot Tiempo recorrido por estacion de destino segun sexo')\n",
    "plt.show()"
   ]
  },
  {
   "cell_type": "markdown",
   "id": "0bb3065d-5ee7-4232-baaf-12d6a0ed0256",
   "metadata": {
    "id": "0bb3065d-5ee7-4232-baaf-12d6a0ed0256"
   },
   "source": [
    "### 🔴 Aqui graficamos el tiempo de recorrido por estación de origen y sexo.\n",
    "\n"
   ]
  },
  {
   "cell_type": "code",
   "execution_count": null,
   "id": "4dada95f-1170-4bbb-98a7-7e72f7205816",
   "metadata": {
    "id": "4dada95f-1170-4bbb-98a7-7e72f7205816"
   },
   "outputs": [],
   "source": [
    "plt.figure(figsize=(10,5))\n",
    "sns.violinplot (data=df_estaciones, x='nombre_estacion_origen', y='tiempo_recorrido', hue='genero_usuario', palette=\"Paired\")\n",
    "plt.title('Boxplot Tiempo recorrido por estacion de destino segun sexo')\n",
    "plt.show()"
   ]
  },
  {
   "cell_type": "markdown",
   "id": "79fb9a8c-1d08-496f-a03e-3ccd875f0c7d",
   "metadata": {
    "id": "79fb9a8c-1d08-496f-a03e-3ccd875f0c7d"
   },
   "source": [
    "***\n",
    "***\n",
    "### 🔴 Seleccionar las 4 estaciones con mas tráfico nos permite explorar y hacer un análisis mediante gráficos del set de datos. No podríamos haber analizado con el total de las estaciones las relaciones y gráficos porque los mismos serían imposibles de interpretar.\n",
    "Para los modelos de predicción tampoco podremos usar el dataset completo, porque nos arroja error de memoria en todos los casos. Por ese motivo realizaremos un subset del 10% del total del set, y haremos un conteo de valores de las cuatro variables (***id_estacion_destino, id_estacion_origen, genero_usuario, edad_usuario***) tanto del set inicial como del recorte, y luego lo graficaremos para evaluar su ***representatividad***\n",
    "\n",
    "\n",
    "Volvemos a ver nuestro dataset, y nos había quedado pendiente connvertir en string las variables catégoricas de ***ID estacion destino e ID estación Origen*** para poder luego hacer correctamente el Dummies.\n"
   ]
  },
  {
   "cell_type": "code",
   "execution_count": null,
   "id": "a4a04e53-bba5-4621-8ecf-aff6a6814bfe",
   "metadata": {
    "id": "a4a04e53-bba5-4621-8ecf-aff6a6814bfe"
   },
   "outputs": [],
   "source": [
    "df_bicis3.head()"
   ]
  },
  {
   "cell_type": "code",
   "execution_count": null,
   "id": "66fdd5ed-7edd-48fa-979d-54704aea3237",
   "metadata": {
    "id": "66fdd5ed-7edd-48fa-979d-54704aea3237"
   },
   "outputs": [],
   "source": [
    "df_bicis3[['id_estacion_origen','id_estacion_destino']] = df_bicis3[['id_estacion_origen','id_estacion_destino']] .astype(str)"
   ]
  },
  {
   "cell_type": "code",
   "execution_count": null,
   "id": "aaef8aab-30e8-4fae-b7c8-7b1c2088d743",
   "metadata": {
    "id": "aaef8aab-30e8-4fae-b7c8-7b1c2088d743"
   },
   "outputs": [],
   "source": [
    "df_bicis3.dtypes"
   ]
  },
  {
   "cell_type": "code",
   "execution_count": null,
   "id": "c82498be-f153-4dd3-8db1-877e2d5fae77",
   "metadata": {
    "id": "c82498be-f153-4dd3-8db1-877e2d5fae77"
   },
   "outputs": [],
   "source": [
    "representativo_origen = df_bicis3[\"id_estacion_origen\"].value_counts()\n",
    "representativo_destino = df_bicis3[\"id_estacion_destino\"].value_counts()\n",
    "representativo_genero = df_bicis3[\"genero_usuario\"].value_counts()\n",
    "representativo_edad = df_bicis3[\"edad_usuario\"].value_counts()\n",
    "representativo_tiempo = df_bicis3[\"tiempo_recorrido\"].value_counts()"
   ]
  },
  {
   "cell_type": "markdown",
   "id": "2e85e6f3-2c6c-4719-8eba-b6a32380fb59",
   "metadata": {
    "id": "2e85e6f3-2c6c-4719-8eba-b6a32380fb59",
    "tags": []
   },
   "source": [
    "### 🔴 Realizamos un subset del dataset al 10%\n"
   ]
  },
  {
   "cell_type": "code",
   "execution_count": null,
   "id": "8d95987a-624e-4368-8256-35e29c4b0b0a",
   "metadata": {
    "id": "8d95987a-624e-4368-8256-35e29c4b0b0a"
   },
   "outputs": [],
   "source": [
    "df_bicis_sample = df_bicis3.sample(frac=0.10)\n",
    "df_bicis_sample.head()"
   ]
  },
  {
   "cell_type": "markdown",
   "id": "ee5f96fd-8ff5-45bd-87fe-c639b0e10613",
   "metadata": {
    "id": "ee5f96fd-8ff5-45bd-87fe-c639b0e10613"
   },
   "source": [
    "### 🔴 Creamos de las cuatro variables que formaran X y de tiempo recorrido, que será nuestro target, un conteo de valores para graficar debajo la representatividad del recorte"
   ]
  },
  {
   "cell_type": "code",
   "execution_count": null,
   "id": "0e81768b-de29-44f9-8f5a-427decd9e584",
   "metadata": {
    "id": "0e81768b-de29-44f9-8f5a-427decd9e584"
   },
   "outputs": [],
   "source": [
    "representativo_origen_sample = df_bicis_sample[\"id_estacion_origen\"].value_counts()\n",
    "representativo_destino_sample = df_bicis_sample[\"id_estacion_origen\"].value_counts()\n",
    "representativo_genero_sample = df_bicis_sample[\"genero_usuario\"].value_counts()\n",
    "representativo_edad_sample = df_bicis_sample[\"edad_usuario\"].value_counts()\n",
    "representativo_tiempo_sample = df_bicis_sample[\"tiempo_recorrido\"].value_counts()"
   ]
  },
  {
   "cell_type": "code",
   "execution_count": null,
   "id": "2d2f00a3-f855-4a91-ad12-4e39e6446d7a",
   "metadata": {
    "id": "2d2f00a3-f855-4a91-ad12-4e39e6446d7a"
   },
   "outputs": [],
   "source": [
    "fig, axes = plt.subplots(5,2, figsize=(20, 26))\n",
    "\n",
    "plt.suptitle('Grafica para mostrar representatividad del sample', fontsize=20)\n",
    "\n",
    "sns.histplot(ax=axes[0, 0], data = representativo_destino, kde=True, color = \"Red\", element=\"poly\").set(title='Estaciones Destino Original')\n",
    "sns.histplot(ax=axes[0, 1], data = representativo_destino_sample, kde=True, color = \"Green\", element=\"poly\").set(title='Estaciones Destino Recorte')\n",
    "sns.histplot(ax=axes[1, 0], data = representativo_origen, kde=True, color = \"Red\", element=\"poly\").set(title='Estaciones Origen Original')\n",
    "sns.histplot(ax=axes[1, 1], data = representativo_origen_sample, kde=True, color = \"Green\", element=\"poly\").set(title='Estaciones Origen Recorte')\n",
    "sns.histplot(ax=axes[2, 0], data = representativo_genero, kde=True, color = \"Red\", element=\"poly\").set(title='Genero Original')\n",
    "sns.histplot(ax=axes[2, 1], data = representativo_genero_sample, kde=True, color = \"Green\", element=\"poly\").set(title='Genero Recorte')\n",
    "sns.histplot(ax=axes[3, 0], data = representativo_edad, kde=True, color = \"Red\", element=\"poly\").set(title='Edad Origen')\n",
    "sns.histplot(ax=axes[3, 1], data = representativo_edad_sample, kde=True, color = \"Green\", element=\"poly\").set(title='Edad Recorte')\n",
    "sns.histplot(ax=axes[4, 0], data = representativo_tiempo, kde=True, color = \"Red\", element=\"poly\").set(title='Tiempo Original')\n",
    "sns.histplot(ax=axes[4, 1], data = representativo_tiempo_sample, kde=True, color = \"Green\", element=\"poly\").set(title='TIempo Recorte')\n",
    "plt.show()\n"
   ]
  },
  {
   "cell_type": "markdown",
   "id": "f59612a3-41ff-45a8-8241-83a57f8bcaa6",
   "metadata": {
    "id": "f59612a3-41ff-45a8-8241-83a57f8bcaa6"
   },
   "source": [
    "### 🔴 En color rojo se ven las cuatro variables del set original, en verde las variables del subset.\n",
    "***Podemos ver que la muestra es representativa por la similitud de los gráficosincluso con la línea de tendencia, con esta conclusión avanzamos en la creacion de los algoritmos***"
   ]
  },
  {
   "cell_type": "markdown",
   "id": "ed606550-b528-46d6-aa39-138e5fd6bf44",
   "metadata": {
    "id": "ed606550-b528-46d6-aa39-138e5fd6bf44"
   },
   "source": [
    "***\n",
    "### 🔴Algoritmos de clásificación \n",
    "##### Utilizaremos modelos de clásificación segmentando el target de \"tiempo_recorrido\" en 9, ordenadas por duración del viaje."
   ]
  },
  {
   "cell_type": "markdown",
   "id": "e5b6c3d9-ea00-4d93-b66a-1da27b2d7f58",
   "metadata": {
    "id": "e5b6c3d9-ea00-4d93-b66a-1da27b2d7f58"
   },
   "source": [
    "🔴 ***Tomamos las variables que usaremos para aplicarles los modelos*** y creamos un nuevo DataFrame que será el definitivo para aplicar los modelos."
   ]
  },
  {
   "cell_type": "code",
   "execution_count": null,
   "id": "bcd1edda-d273-4a39-b65e-995ddb1dde25",
   "metadata": {
    "id": "bcd1edda-d273-4a39-b65e-995ddb1dde25"
   },
   "outputs": [],
   "source": [
    "df_estaciones = df_bicis_sample.iloc[:, [2,5,7,8,9]]\n",
    "df_estaciones"
   ]
  },
  {
   "cell_type": "markdown",
   "id": "8c806786-a04c-4c20-864a-32db67153edf",
   "metadata": {
    "id": "8c806786-a04c-4c20-864a-32db67153edf"
   },
   "source": [
    "🔴 Aplicamos el Get Dummies para convertir las variables categóricas y poder aplicarles los modelos de clasificación"
   ]
  },
  {
   "cell_type": "code",
   "execution_count": null,
   "id": "4bd4aaf5-c6b0-4a93-a106-cf897cfd2970",
   "metadata": {
    "id": "4bd4aaf5-c6b0-4a93-a106-cf897cfd2970"
   },
   "outputs": [],
   "source": [
    "features_dummy = pd.get_dummies(df_estaciones, columns = [\"id_estacion_origen\", 'id_estacion_destino', \"genero_usuario\", \"edad_usuario\"])\n",
    "features_dummy.head()"
   ]
  },
  {
   "cell_type": "markdown",
   "id": "4987dd1a-a2bb-45e1-897f-600e52b24565",
   "metadata": {
    "id": "4987dd1a-a2bb-45e1-897f-600e52b24565"
   },
   "source": [
    "#### 🔴 Nuestra variable y será ***tiempo_recorrido***, para aplicar los modelos de clasificación dividimos en dos la duracion de los viajes, en viajes cortos y viajes largos. \n",
    "#### El criterio para dividir en dos la variable es la mediana de tiempo recorrido, que es 17 minutos.\n",
    "#### El codigo siguiente es como le damos forma a y_cat con una funcion"
   ]
  },
  {
   "cell_type": "code",
   "execution_count": null,
   "id": "5d1187b6-7734-44e9-b259-8a84c34d1fdb",
   "metadata": {},
   "outputs": [],
   "source": [
    "features_dummy.tiempo_recorrido.median()"
   ]
  },
  {
   "cell_type": "code",
   "execution_count": null,
   "id": "47e3b291-e3c5-4f40-8026-d783f3388e50",
   "metadata": {
    "colab": {
     "base_uri": "https://localhost:8080/"
    },
    "executionInfo": {
     "elapsed": 262,
     "status": "ok",
     "timestamp": 1659444804504,
     "user": {
      "displayName": "Diego Bouzada",
      "userId": "17943271668333651695"
     },
     "user_tz": 180
    },
    "id": "47e3b291-e3c5-4f40-8026-d783f3388e50",
    "outputId": "6478ccc3-6d57-452b-b59c-6eafd4823f29"
   },
   "outputs": [],
   "source": [
    "#Trasnformación de target para clasificacion\n",
    "def transform_target(target):\n",
    "    if target <= 17:\n",
    "        return \"Viaje Corto\"\n",
    "    elif target > 17:\n",
    "        return \"Viaje Largo\"\n",
    "    else:\n",
    "        raise ValueError\n",
    "        \n",
    "features_dummy.tiempo_recorrido.apply(transform_target)"
   ]
  },
  {
   "cell_type": "code",
   "execution_count": null,
   "id": "f1725a6a-9af8-49c4-99eb-17b9b920feac",
   "metadata": {
    "id": "f1725a6a-9af8-49c4-99eb-17b9b920feac"
   },
   "outputs": [],
   "source": [
    "X = features_dummy.drop('tiempo_recorrido', axis=1)\n",
    "y_cat = features_dummy.tiempo_recorrido.apply(transform_target)"
   ]
  },
  {
   "cell_type": "markdown",
   "id": "e579d86e-b2d5-4636-83a4-9301494bd512",
   "metadata": {},
   "source": [
    "### Iniciamos los modelos de predicción"
   ]
  },
  {
   "cell_type": "code",
   "execution_count": null,
   "id": "902e611e-702e-4ab7-924a-9d1d8b35bd43",
   "metadata": {
    "executionInfo": {
     "elapsed": 2171,
     "status": "ok",
     "timestamp": 1659460995575,
     "user": {
      "displayName": "Diego Bouzada",
      "userId": "17943271668333651695"
     },
     "user_tz": 180
    },
    "id": "iuSv-CH_jdsg"
   },
   "outputs": [],
   "source": [
    "# Importamos librerías\n",
    "\n",
    "# Modelos\n",
    "from sklearn.model_selection import train_test_split \n",
    "from sklearn.tree import DecisionTreeClassifier\n",
    "from sklearn import tree\n",
    "from sklearn.svm import LinearSVC\n",
    "from sklearn.neighbors import KNeighborsClassifier\n",
    "from sklearn.ensemble import RandomForestClassifier\n",
    "\n",
    "# Métricas\n",
    "from sklearn.metrics import accuracy_score\n",
    "from sklearn.metrics import recall_score\n",
    "from sklearn.metrics import confusion_matrix\n",
    "from sklearn.metrics import ConfusionMatrixDisplay\n",
    "from sklearn.tree import plot_tree\n",
    "from sklearn.metrics import f1_score\n",
    "from sklearn.metrics import classification_report\n",
    "from sklearn.model_selection import cross_val_score\n",
    "from sklearn.metrics import precision_score\n",
    "from sklearn.model_selection import LeaveOneOut\n",
    "\n",
    "#Ensemble\n",
    "from sklearn.ensemble import AdaBoostClassifier\n",
    "from sklearn.ensemble import VotingClassifier\n",
    "\n",
    "# Oprimizacion de modelos\n",
    "from sklearn.model_selection import GridSearchCV"
   ]
  },
  {
   "cell_type": "code",
   "execution_count": null,
   "id": "6eab707e-f149-4d2c-877c-b16c93b49603",
   "metadata": {},
   "outputs": [],
   "source": [
    "#Separamos los datos en train y test\n",
    "\n",
    "X_train, X_test, y_train, y_test = train_test_split(X, y_cat, test_size=0.20, random_state=0) "
   ]
  },
  {
   "cell_type": "markdown",
   "id": "eab810f7-8e37-4677-bcb5-4cde57459ef8",
   "metadata": {
    "id": "e060b04c",
    "tags": []
   },
   "source": [
    "### 🔴 Arbol de Decisión\n"
   ]
  },
  {
   "cell_type": "markdown",
   "id": "ed325e8d-8211-4226-96a2-81385089b01d",
   "metadata": {
    "tags": []
   },
   "source": [
    "# Grid Search para modelo de Arbol de Decisión"
   ]
  },
  {
   "cell_type": "code",
   "execution_count": null,
   "id": "bae9ecf6",
   "metadata": {
    "executionInfo": {
     "elapsed": 236,
     "status": "ok",
     "timestamp": 1659444827616,
     "user": {
      "displayName": "Diego Bouzada",
      "userId": "17943271668333651695"
     },
     "user_tz": 180
    },
    "id": "bae9ecf6"
   },
   "outputs": [],
   "source": [
    "params = {'max_depth': np.arange(20,45)}"
   ]
  },
  {
   "cell_type": "code",
   "execution_count": null,
   "id": "b71f1153",
   "metadata": {
    "executionInfo": {
     "elapsed": 644,
     "status": "ok",
     "timestamp": 1659444829358,
     "user": {
      "displayName": "Diego Bouzada",
      "userId": "17943271668333651695"
     },
     "user_tz": 180
    },
    "id": "b71f1153"
   },
   "outputs": [],
   "source": [
    "tree = DecisionTreeClassifier() "
   ]
  },
  {
   "cell_type": "code",
   "execution_count": null,
   "id": "75bcd90e",
   "metadata": {
    "executionInfo": {
     "elapsed": 563,
     "status": "ok",
     "timestamp": 1659444831348,
     "user": {
      "displayName": "Diego Bouzada",
      "userId": "17943271668333651695"
     },
     "user_tz": 180
    },
    "id": "75bcd90e"
   },
   "outputs": [],
   "source": [
    "clf_cv = GridSearchCV(tree, param_grid=params, cv=5)"
   ]
  },
  {
   "cell_type": "code",
   "execution_count": null,
   "id": "d1648ea3",
   "metadata": {
    "colab": {
     "base_uri": "https://localhost:8080/"
    },
    "executionInfo": {
     "elapsed": 1695612,
     "status": "ok",
     "timestamp": 1659446528284,
     "user": {
      "displayName": "Diego Bouzada",
      "userId": "17943271668333651695"
     },
     "user_tz": 180
    },
    "id": "d1648ea3",
    "outputId": "cc3e6dab-ebd7-4b45-bf0e-f7460f97c01c"
   },
   "outputs": [],
   "source": [
    "clf_cv.fit(X, y_cat)"
   ]
  },
  {
   "cell_type": "code",
   "execution_count": null,
   "id": "69103292",
   "metadata": {
    "colab": {
     "base_uri": "https://localhost:8080/"
    },
    "executionInfo": {
     "elapsed": 279,
     "status": "ok",
     "timestamp": 1659446541793,
     "user": {
      "displayName": "Diego Bouzada",
      "userId": "17943271668333651695"
     },
     "user_tz": 180
    },
    "id": "69103292",
    "outputId": "3192904d-f018-4fd2-c227-37bce75e9c3e"
   },
   "outputs": [],
   "source": [
    "print('Mejor Parametro para el árbol de decisión: {}'.format(clf_cv.best_params_))"
   ]
  },
  {
   "cell_type": "markdown",
   "id": "f110d6eb-0a4e-4fb4-bf92-b50de02f385a",
   "metadata": {
    "id": "3b562ed0",
    "tags": []
   },
   "source": [
    "# Creamos el modelo luego de evaluar parámetros\n"
   ]
  },
  {
   "cell_type": "code",
   "execution_count": null,
   "id": "3b556861",
   "metadata": {
    "colab": {
     "base_uri": "https://localhost:8080/"
    },
    "executionInfo": {
     "elapsed": 16030,
     "status": "ok",
     "timestamp": 1659446573222,
     "user": {
      "displayName": "Diego Bouzada",
      "userId": "17943271668333651695"
     },
     "user_tz": 180
    },
    "id": "3b556861",
    "outputId": "5c373a0c-792f-48d2-f942-66d382e93048"
   },
   "outputs": [],
   "source": [
    "tree_cat = DecisionTreeClassifier(**clf_cv.best_params_)\n",
    "tree_cat.fit(X_train,y_train)"
   ]
  },
  {
   "cell_type": "code",
   "execution_count": null,
   "id": "DrnAuxAgjhv9",
   "metadata": {
    "executionInfo": {
     "elapsed": 17,
     "status": "ok",
     "timestamp": 1659446573223,
     "user": {
      "displayName": "Diego Bouzada",
      "userId": "17943271668333651695"
     },
     "user_tz": 180
    },
    "id": "DrnAuxAgjhv9"
   },
   "outputs": [],
   "source": [
    "y_test_pred = tree_cat.predict(X_test)"
   ]
  },
  {
   "cell_type": "code",
   "execution_count": null,
   "id": "25348b00",
   "metadata": {
    "colab": {
     "base_uri": "https://localhost:8080/"
    },
    "executionInfo": {
     "elapsed": 403,
     "status": "ok",
     "timestamp": 1659446573611,
     "user": {
      "displayName": "Diego Bouzada",
      "userId": "17943271668333651695"
     },
     "user_tz": 180
    },
    "id": "25348b00",
    "outputId": "789e12a0-82ba-4af2-bbb0-cbce0b627ff2"
   },
   "outputs": [],
   "source": [
    "y_train_pred = tree_cat.predict(X_train)  #Prediccion del train\n",
    "y_test_pred = tree_cat.predict(X_test)  #Prediccion en Test\n",
    "\n",
    "#Calculo el accuracy en Train\n",
    "train_accuracy = accuracy_score(y_train, y_train_pred)\n",
    "\n",
    "#Calculo el accuracy en Test\n",
    "test_accuracy = accuracy_score(y_test, y_test_pred)\n",
    "\n",
    "print('% de aciertos sobre el set de entrenamiento:', train_accuracy)\n",
    "print('% de aciertos sobre el set de evaluación:',test_accuracy)"
   ]
  },
  {
   "cell_type": "code",
   "execution_count": null,
   "id": "5e20914f",
   "metadata": {
    "colab": {
     "base_uri": "https://localhost:8080/",
     "height": 435
    },
    "executionInfo": {
     "elapsed": 761,
     "status": "ok",
     "timestamp": 1659446574595,
     "user": {
      "displayName": "Diego Bouzada",
      "userId": "17943271668333651695"
     },
     "user_tz": 180
    },
    "id": "5e20914f",
    "outputId": "803f3e06-2fd2-4858-d89b-04ca2f53947d"
   },
   "outputs": [],
   "source": [
    "#Matriz de Confusión\n",
    "cm = confusion_matrix(y_test, y_test_pred)\n",
    "print(cm)\n",
    "\n",
    "#Ploteamos la Matriz\n",
    "disp = ConfusionMatrixDisplay(confusion_matrix=cm)\n",
    "disp.plot()\n",
    "\n",
    "plt.show()"
   ]
  },
  {
   "cell_type": "code",
   "execution_count": null,
   "id": "7f6acf5b",
   "metadata": {
    "colab": {
     "base_uri": "https://localhost:8080/",
     "height": 1000
    },
    "executionInfo": {
     "elapsed": 1348,
     "status": "ok",
     "timestamp": 1659446575932,
     "user": {
      "displayName": "Diego Bouzada",
      "userId": "17943271668333651695"
     },
     "user_tz": 180
    },
    "id": "7f6acf5b",
    "outputId": "98f91e4c-8e40-4e8f-c336-24c18eee1884"
   },
   "outputs": [],
   "source": [
    "plt.figure(figsize=(15,20))\n",
    "\n",
    "plot_tree(tree_cat, feature_names=X_train.columns, max_depth=3, fontsize=8, class_names=str(y_cat)) #hack para que y sea str\n",
    "plt.show()"
   ]
  },
  {
   "cell_type": "code",
   "execution_count": null,
   "id": "e25ab101",
   "metadata": {
    "colab": {
     "base_uri": "https://localhost:8080/"
    },
    "executionInfo": {
     "elapsed": 15,
     "status": "ok",
     "timestamp": 1659446575933,
     "user": {
      "displayName": "Diego Bouzada",
      "userId": "17943271668333651695"
     },
     "user_tz": 180
    },
    "id": "e25ab101",
    "outputId": "efb37f54-7a4b-4877-8308-ebd04c22ad97"
   },
   "outputs": [],
   "source": [
    "# Recall\n",
    "print(f\"Recall Score of the classifier is: {recall_score(y_test, y_test_pred, pos_label='positive', average='micro')}\")"
   ]
  },
  {
   "cell_type": "code",
   "execution_count": null,
   "id": "f3adc453",
   "metadata": {
    "colab": {
     "base_uri": "https://localhost:8080/"
    },
    "executionInfo": {
     "elapsed": 11,
     "status": "ok",
     "timestamp": 1659446575933,
     "user": {
      "displayName": "Diego Bouzada",
      "userId": "17943271668333651695"
     },
     "user_tz": 180
    },
    "id": "f3adc453",
    "outputId": "f52984dc-d51d-4f77-a16c-166b7d60d4e6"
   },
   "outputs": [],
   "source": [
    "# Calculo del F1 score\n",
    "print(f\"F1 Score of the classifier is: {f1_score(y_test, y_test_pred, pos_label='positive', average='micro')}\")"
   ]
  },
  {
   "cell_type": "code",
   "execution_count": null,
   "id": "-_wAXwfBk6va",
   "metadata": {
    "colab": {
     "base_uri": "https://localhost:8080/"
    },
    "executionInfo": {
     "elapsed": 399,
     "status": "ok",
     "timestamp": 1659446576325,
     "user": {
      "displayName": "Diego Bouzada",
      "userId": "17943271668333651695"
     },
     "user_tz": 180
    },
    "id": "-_wAXwfBk6va",
    "outputId": "c1d1fd1f-c44d-4696-b55d-4013fcca430b"
   },
   "outputs": [],
   "source": [
    "print(classification_report(y_test, y_test_pred))"
   ]
  },
  {
   "cell_type": "markdown",
   "id": "a4eaf442-571e-42ea-9563-813887db5f86",
   "metadata": {
    "id": "483d5c87"
   },
   "source": [
    "***"
   ]
  },
  {
   "cell_type": "markdown",
   "id": "3a88b38a-02bd-460e-8b1c-6eec8a2604e2",
   "metadata": {
    "id": "699bf4b8",
    "tags": []
   },
   "source": [
    "# Grid Search para Linear SVC"
   ]
  },
  {
   "cell_type": "code",
   "execution_count": null,
   "id": "e4ad6e06",
   "metadata": {
    "executionInfo": {
     "elapsed": 9,
     "status": "ok",
     "timestamp": 1659446576327,
     "user": {
      "displayName": "Diego Bouzada",
      "userId": "17943271668333651695"
     },
     "user_tz": 180
    },
    "id": "e4ad6e06"
   },
   "outputs": [],
   "source": [
    "model= LinearSVC()"
   ]
  },
  {
   "cell_type": "code",
   "execution_count": null,
   "id": "215c42a1",
   "metadata": {
    "colab": {
     "base_uri": "https://localhost:8080/"
    },
    "executionInfo": {
     "elapsed": 15907,
     "status": "ok",
     "timestamp": 1659446592226,
     "user": {
      "displayName": "Diego Bouzada",
      "userId": "17943271668333651695"
     },
     "user_tz": 180
    },
    "id": "215c42a1",
    "outputId": "dfb672ae-47ff-4f8a-b21f-4c4fd2a5f2e6"
   },
   "outputs": [],
   "source": [
    "model.fit(X_train, y_train)\n"
   ]
  },
  {
   "cell_type": "code",
   "execution_count": null,
   "id": "e0a1268d",
   "metadata": {
    "colab": {
     "base_uri": "https://localhost:8080/"
    },
    "executionInfo": {
     "elapsed": 26,
     "status": "ok",
     "timestamp": 1659446592227,
     "user": {
      "displayName": "Diego Bouzada",
      "userId": "17943271668333651695"
     },
     "user_tz": 180
    },
    "id": "e0a1268d",
    "outputId": "2d7da9a7-5ace-4eda-9b4c-2eeb0ac560d2"
   },
   "outputs": [],
   "source": [
    "prediction = model.predict(X_test)\n",
    "prediction"
   ]
  },
  {
   "cell_type": "code",
   "execution_count": null,
   "id": "797134d8",
   "metadata": {
    "colab": {
     "base_uri": "https://localhost:8080/"
    },
    "executionInfo": {
     "elapsed": 921,
     "status": "ok",
     "timestamp": 1659446593129,
     "user": {
      "displayName": "Diego Bouzada",
      "userId": "17943271668333651695"
     },
     "user_tz": 180
    },
    "id": "797134d8",
    "outputId": "e11b85b9-2ad4-421b-dd39-031eecabf612"
   },
   "outputs": [],
   "source": [
    "print(classification_report(y_test,prediction))\n",
    "print(confusion_matrix(y_test, prediction))"
   ]
  },
  {
   "cell_type": "code",
   "execution_count": null,
   "id": "9150be20",
   "metadata": {
    "executionInfo": {
     "elapsed": 19,
     "status": "ok",
     "timestamp": 1659446593130,
     "user": {
      "displayName": "Diego Bouzada",
      "userId": "17943271668333651695"
     },
     "user_tz": 180
    },
    "id": "9150be20"
   },
   "outputs": [],
   "source": [
    "param_grid = {'C':np.arange(0.01,80,20)}"
   ]
  },
  {
   "cell_type": "code",
   "execution_count": null,
   "id": "acd07e70",
   "metadata": {
    "executionInfo": {
     "elapsed": 16,
     "status": "ok",
     "timestamp": 1659446593132,
     "user": {
      "displayName": "Diego Bouzada",
      "userId": "17943271668333651695"
     },
     "user_tz": 180
    },
    "id": "acd07e70"
   },
   "outputs": [],
   "source": [
    "grid = GridSearchCV(LinearSVC(),param_grid,refit = True, verbose=2)"
   ]
  },
  {
   "cell_type": "code",
   "execution_count": null,
   "id": "56ef0073",
   "metadata": {
    "colab": {
     "base_uri": "https://localhost:8080/"
    },
    "executionInfo": {
     "elapsed": 4132927,
     "status": "ok",
     "timestamp": 1659450726044,
     "user": {
      "displayName": "Diego Bouzada",
      "userId": "17943271668333651695"
     },
     "user_tz": 180
    },
    "id": "56ef0073",
    "outputId": "60eecc4e-a95a-43c6-eba1-03442fbab8aa"
   },
   "outputs": [],
   "source": [
    "grid.fit(X_train,y_train)\n"
   ]
  },
  {
   "cell_type": "code",
   "execution_count": null,
   "id": "83b70678",
   "metadata": {
    "colab": {
     "base_uri": "https://localhost:8080/"
    },
    "executionInfo": {
     "elapsed": 79,
     "status": "ok",
     "timestamp": 1659450726048,
     "user": {
      "displayName": "Diego Bouzada",
      "userId": "17943271668333651695"
     },
     "user_tz": 180
    },
    "id": "83b70678",
    "outputId": "95ffc44e-6c26-4cf2-b76f-78ae2fe5061c"
   },
   "outputs": [],
   "source": [
    "print('Mejor Parametro para el árbol de decisión: {}'.format(grid.best_params_))"
   ]
  },
  {
   "cell_type": "code",
   "execution_count": null,
   "id": "c2f34135",
   "metadata": {
    "executionInfo": {
     "elapsed": 2000,
     "status": "ok",
     "timestamp": 1659450728014,
     "user": {
      "displayName": "Diego Bouzada",
      "userId": "17943271668333651695"
     },
     "user_tz": 180
    },
    "id": "c2f34135"
   },
   "outputs": [],
   "source": [
    "predic = grid.predict(X_test)\n"
   ]
  },
  {
   "cell_type": "code",
   "execution_count": null,
   "id": "dc44b1da",
   "metadata": {
    "colab": {
     "base_uri": "https://localhost:8080/"
    },
    "executionInfo": {
     "elapsed": 1442,
     "status": "ok",
     "timestamp": 1659450729442,
     "user": {
      "displayName": "Diego Bouzada",
      "userId": "17943271668333651695"
     },
     "user_tz": 180
    },
    "id": "dc44b1da",
    "outputId": "d6cd5ac0-6b0e-4bd7-bebf-2e1ccf97dbc8"
   },
   "outputs": [],
   "source": [
    "print(classification_report(y_test,predic))\n",
    "print(confusion_matrix(y_test, predic))"
   ]
  },
  {
   "cell_type": "markdown",
   "id": "f0785141-a3fc-4f8f-80d9-9f4cac72ce3f",
   "metadata": {
    "id": "b852cdfc",
    "tags": []
   },
   "source": [
    "***\n",
    "# Creamos el modelo luego de evaluar parámetros"
   ]
  },
  {
   "cell_type": "code",
   "execution_count": null,
   "id": "aa57a458",
   "metadata": {
    "executionInfo": {
     "elapsed": 16,
     "status": "ok",
     "timestamp": 1659450729450,
     "user": {
      "displayName": "Diego Bouzada",
      "userId": "17943271668333651695"
     },
     "user_tz": 180
    },
    "id": "aa57a458"
   },
   "outputs": [],
   "source": [
    "#Creamos el modelo con los parámetros evaluados\n",
    "model_SVC= LinearSVC (**grid.best_params_)   "
   ]
  },
  {
   "cell_type": "code",
   "execution_count": null,
   "id": "a2bbd01c",
   "metadata": {
    "colab": {
     "base_uri": "https://localhost:8080/"
    },
    "executionInfo": {
     "elapsed": 1024,
     "status": "ok",
     "timestamp": 1659450730459,
     "user": {
      "displayName": "Diego Bouzada",
      "userId": "17943271668333651695"
     },
     "user_tz": 180
    },
    "id": "a2bbd01c",
    "outputId": "2dae4b43-b575-428d-9cfd-d2b05cc31026"
   },
   "outputs": [],
   "source": [
    "model_SVC.fit(X_train, y_train)"
   ]
  },
  {
   "cell_type": "code",
   "execution_count": null,
   "id": "85815b1c",
   "metadata": {
    "executionInfo": {
     "elapsed": 7,
     "status": "ok",
     "timestamp": 1659450730459,
     "user": {
      "displayName": "Diego Bouzada",
      "userId": "17943271668333651695"
     },
     "user_tz": 180
    },
    "id": "85815b1c"
   },
   "outputs": [],
   "source": [
    "# Calculamos las predicciones!\n",
    "predictions_ = model_SVC.predict(X_test)"
   ]
  },
  {
   "cell_type": "code",
   "execution_count": null,
   "id": "98ad5697",
   "metadata": {
    "colab": {
     "base_uri": "https://localhost:8080/"
    },
    "executionInfo": {
     "elapsed": 8,
     "status": "ok",
     "timestamp": 1659450730460,
     "user": {
      "displayName": "Diego Bouzada",
      "userId": "17943271668333651695"
     },
     "user_tz": 180
    },
    "id": "98ad5697",
    "outputId": "47032680-907d-4088-ce67-d5b8577af8fa"
   },
   "outputs": [],
   "source": [
    "# Accuracy\n",
    "print(f\"Accuracy of the classifier is: {accuracy_score(y_test, predictions_)}\")"
   ]
  },
  {
   "cell_type": "code",
   "execution_count": null,
   "id": "e053c977",
   "metadata": {
    "colab": {
     "base_uri": "https://localhost:8080/",
     "height": 435
    },
    "executionInfo": {
     "elapsed": 1443,
     "status": "ok",
     "timestamp": 1659450731899,
     "user": {
      "displayName": "Diego Bouzada",
      "userId": "17943271668333651695"
     },
     "user_tz": 180
    },
    "id": "e053c977",
    "outputId": "21ae571d-ae2e-4e2e-e52b-c72c7eb1c153"
   },
   "outputs": [],
   "source": [
    "#Matriz de Confusión\n",
    "cm = confusion_matrix(y_test, predictions_)\n",
    "print(cm)\n",
    "\n",
    "#Ploteamos la Matriz\n",
    "disp = ConfusionMatrixDisplay(confusion_matrix=cm)\n",
    "disp.plot()\n",
    "\n",
    "plt.show()"
   ]
  },
  {
   "cell_type": "code",
   "execution_count": null,
   "id": "ce50ec33",
   "metadata": {
    "colab": {
     "base_uri": "https://localhost:8080/"
    },
    "executionInfo": {
     "elapsed": 338,
     "status": "ok",
     "timestamp": 1659450890329,
     "user": {
      "displayName": "Diego Bouzada",
      "userId": "17943271668333651695"
     },
     "user_tz": 180
    },
    "id": "ce50ec33",
    "outputId": "d511a4b7-9183-4126-8d1e-13cd13399ba8"
   },
   "outputs": [],
   "source": [
    "# Precision!\n",
    "print(f\"Precision Score of the classifier is: {precision_score(y_test, predictions_, pos_label='positive', average='micro')}\")"
   ]
  },
  {
   "cell_type": "code",
   "execution_count": null,
   "id": "8ef647af",
   "metadata": {
    "colab": {
     "base_uri": "https://localhost:8080/"
    },
    "executionInfo": {
     "elapsed": 282,
     "status": "ok",
     "timestamp": 1659450894862,
     "user": {
      "displayName": "Diego Bouzada",
      "userId": "17943271668333651695"
     },
     "user_tz": 180
    },
    "id": "8ef647af",
    "outputId": "99106a31-8a26-47ff-8118-9baec22f6dd1"
   },
   "outputs": [],
   "source": [
    "print(f\"Recall Score of the classifier is: {recall_score(y_test, predictions_, pos_label='positive', average='micro')}\")"
   ]
  },
  {
   "cell_type": "code",
   "execution_count": null,
   "id": "7a990a15",
   "metadata": {
    "colab": {
     "base_uri": "https://localhost:8080/"
    },
    "executionInfo": {
     "elapsed": 255,
     "status": "ok",
     "timestamp": 1659450896960,
     "user": {
      "displayName": "Diego Bouzada",
      "userId": "17943271668333651695"
     },
     "user_tz": 180
    },
    "id": "7a990a15",
    "outputId": "964ee2bd-8888-495b-9a90-92d5dd63270b"
   },
   "outputs": [],
   "source": [
    "# Calculo del F1 score\n",
    "print(f\"F1 Score of the classifier is: {f1_score(y_test, predictions_, pos_label='positive', average='micro')}\")"
   ]
  },
  {
   "cell_type": "code",
   "execution_count": null,
   "id": "sF7g2n9VkROr",
   "metadata": {
    "colab": {
     "base_uri": "https://localhost:8080/"
    },
    "executionInfo": {
     "elapsed": 843,
     "status": "ok",
     "timestamp": 1659450899659,
     "user": {
      "displayName": "Diego Bouzada",
      "userId": "17943271668333651695"
     },
     "user_tz": 180
    },
    "id": "sF7g2n9VkROr",
    "outputId": "a163cd4a-32ca-41c2-e13a-6516c6d79135"
   },
   "outputs": [],
   "source": [
    "print(classification_report(y_test, predictions_))"
   ]
  },
  {
   "cell_type": "markdown",
   "id": "a056a4e0-7935-41bf-9fa5-6abf6bcaa84b",
   "metadata": {
    "id": "60cc584c"
   },
   "source": [
    "### 🔴 Random Forest - Aplicamos Grid y luego el modelo"
   ]
  },
  {
   "cell_type": "code",
   "execution_count": null,
   "id": "fa044220",
   "metadata": {
    "executionInfo": {
     "elapsed": 254,
     "status": "ok",
     "timestamp": 1659450911647,
     "user": {
      "displayName": "Diego Bouzada",
      "userId": "17943271668333651695"
     },
     "user_tz": 180
    },
    "id": "fa044220"
   },
   "outputs": [],
   "source": [
    "# Creamos el modelo para ver los parámetros\n",
    "rfc=RandomForestClassifier(random_state=42)"
   ]
  },
  {
   "cell_type": "code",
   "execution_count": null,
   "id": "e5f97fe1",
   "metadata": {
    "executionInfo": {
     "elapsed": 2,
     "status": "ok",
     "timestamp": 1659450911892,
     "user": {
      "displayName": "Diego Bouzada",
      "userId": "17943271668333651695"
     },
     "user_tz": 180
    },
    "id": "e5f97fe1"
   },
   "outputs": [],
   "source": [
    "# Parametros del grid\n",
    "param_grid = { \n",
    "    'n_estimators': [200, 500],\n",
    "    'max_features': ['auto', 'sqrt', 'log2'],\n",
    "    'max_depth' : [4,5,6,7,8],\n",
    "    'criterion' :['gini', 'entropy']\n",
    "}"
   ]
  },
  {
   "cell_type": "code",
   "execution_count": null,
   "id": "b9c39fea",
   "metadata": {
    "colab": {
     "base_uri": "https://localhost:8080/"
    },
    "executionInfo": {
     "elapsed": 5589789,
     "status": "ok",
     "timestamp": 1659456501680,
     "user": {
      "displayName": "Diego Bouzada",
      "userId": "17943271668333651695"
     },
     "user_tz": 180
    },
    "id": "b9c39fea",
    "outputId": "670ee9fc-2c43-475c-d3ee-000b725b3585"
   },
   "outputs": [],
   "source": [
    "#Creaamos el método de validación\n",
    "\n",
    "CV_rfc = GridSearchCV(estimator=rfc, param_grid=param_grid, cv= 5)\n",
    "CV_rfc.fit(X_train, y_train)"
   ]
  },
  {
   "cell_type": "code",
   "execution_count": null,
   "id": "94e7b971",
   "metadata": {
    "colab": {
     "base_uri": "https://localhost:8080/"
    },
    "executionInfo": {
     "elapsed": 69,
     "status": "ok",
     "timestamp": 1659456501682,
     "user": {
      "displayName": "Diego Bouzada",
      "userId": "17943271668333651695"
     },
     "user_tz": 180
    },
    "id": "94e7b971",
    "outputId": "d41c3917-1c0c-4fa0-b515-08073743b912"
   },
   "outputs": [],
   "source": [
    "score = CV_rfc.best_score_\n",
    "score"
   ]
  },
  {
   "cell_type": "code",
   "execution_count": null,
   "id": "69e4912a",
   "metadata": {
    "colab": {
     "base_uri": "https://localhost:8080/"
    },
    "executionInfo": {
     "elapsed": 16,
     "status": "ok",
     "timestamp": 1659456501683,
     "user": {
      "displayName": "Diego Bouzada",
      "userId": "17943271668333651695"
     },
     "user_tz": 180
    },
    "id": "69e4912a",
    "outputId": "6d8ee6a8-f3e8-41a0-e0c1-f613ade9b32e"
   },
   "outputs": [],
   "source": [
    "param = CV_rfc.best_params_\n",
    "param"
   ]
  },
  {
   "cell_type": "code",
   "execution_count": null,
   "id": "05bfec05",
   "metadata": {
    "executionInfo": {
     "elapsed": 12,
     "status": "ok",
     "timestamp": 1659456501683,
     "user": {
      "displayName": "Diego Bouzada",
      "userId": "17943271668333651695"
     },
     "user_tz": 180
    },
    "id": "05bfec05"
   },
   "outputs": [],
   "source": [
    "#Con los parámetros arrojados ahora creamos el modelo más adecuado\n",
    "\n",
    "model_rf = RandomForestClassifier(**CV_rfc.best_params_)"
   ]
  },
  {
   "cell_type": "code",
   "execution_count": null,
   "id": "cbede43a",
   "metadata": {
    "colab": {
     "base_uri": "https://localhost:8080/"
    },
    "executionInfo": {
     "elapsed": 19953,
     "status": "ok",
     "timestamp": 1659456521625,
     "user": {
      "displayName": "Diego Bouzada",
      "userId": "17943271668333651695"
     },
     "user_tz": 180
    },
    "id": "cbede43a",
    "outputId": "87347371-3b26-425d-adfc-edf916172bb7"
   },
   "outputs": [],
   "source": [
    "model_rf.fit(X_train, y_train)"
   ]
  },
  {
   "cell_type": "code",
   "execution_count": null,
   "id": "9a23bcde",
   "metadata": {
    "executionInfo": {
     "elapsed": 714,
     "status": "ok",
     "timestamp": 1659456522321,
     "user": {
      "displayName": "Diego Bouzada",
      "userId": "17943271668333651695"
     },
     "user_tz": 180
    },
    "id": "9a23bcde"
   },
   "outputs": [],
   "source": [
    "# Calculamos las predicciones!\n",
    "predictions = model_rf.predict(X_test)"
   ]
  },
  {
   "cell_type": "code",
   "execution_count": null,
   "id": "27425df5",
   "metadata": {
    "colab": {
     "base_uri": "https://localhost:8080/"
    },
    "executionInfo": {
     "elapsed": 22,
     "status": "ok",
     "timestamp": 1659456522324,
     "user": {
      "displayName": "Diego Bouzada",
      "userId": "17943271668333651695"
     },
     "user_tz": 180
    },
    "id": "27425df5",
    "outputId": "3df8c48d-63ee-404b-fd4d-335ddd889b74"
   },
   "outputs": [],
   "source": [
    "# Accuracy\n",
    "print(f\"Accuracy of the classifier is: {accuracy_score(y_test, predictions)}\")"
   ]
  },
  {
   "cell_type": "code",
   "execution_count": null,
   "id": "66ecc369",
   "metadata": {
    "colab": {
     "base_uri": "https://localhost:8080/",
     "height": 435
    },
    "executionInfo": {
     "elapsed": 472,
     "status": "ok",
     "timestamp": 1659456522784,
     "user": {
      "displayName": "Diego Bouzada",
      "userId": "17943271668333651695"
     },
     "user_tz": 180
    },
    "id": "66ecc369",
    "outputId": "5b0bdf30-3c2a-4c71-ec73-e00d7162303b"
   },
   "outputs": [],
   "source": [
    "#Matriz de Confusión\n",
    "cm = confusion_matrix(y_test, predictions)\n",
    "print(cm)\n",
    "\n",
    "#Ploteamos la Matriz\n",
    "disp = ConfusionMatrixDisplay(confusion_matrix=cm)\n",
    "disp.plot()\n",
    "\n",
    "plt.show()"
   ]
  },
  {
   "cell_type": "code",
   "execution_count": null,
   "id": "4e3bfa68",
   "metadata": {
    "colab": {
     "base_uri": "https://localhost:8080/"
    },
    "executionInfo": {
     "elapsed": 276,
     "status": "ok",
     "timestamp": 1659456523050,
     "user": {
      "displayName": "Diego Bouzada",
      "userId": "17943271668333651695"
     },
     "user_tz": 180
    },
    "id": "4e3bfa68",
    "outputId": "0905c5f4-20ad-44c5-f461-195de502ba5c"
   },
   "outputs": [],
   "source": [
    "# Precision!\n",
    "print(f\"Precision Score of the classifier is: {precision_score(y_test, predictions, pos_label='positive', average='micro')}\")"
   ]
  },
  {
   "cell_type": "code",
   "execution_count": null,
   "id": "9c439784",
   "metadata": {
    "colab": {
     "base_uri": "https://localhost:8080/"
    },
    "executionInfo": {
     "elapsed": 11,
     "status": "ok",
     "timestamp": 1659456523051,
     "user": {
      "displayName": "Diego Bouzada",
      "userId": "17943271668333651695"
     },
     "user_tz": 180
    },
    "id": "9c439784",
    "outputId": "7ed3ff2e-f930-4457-a2c1-571090bdc9bc"
   },
   "outputs": [],
   "source": [
    "print(f\"Recall Score of the classifier is: {recall_score(y_test, predictions, pos_label='positive', average='micro')}\")"
   ]
  },
  {
   "cell_type": "code",
   "execution_count": null,
   "id": "d93c64a6",
   "metadata": {
    "colab": {
     "base_uri": "https://localhost:8080/"
    },
    "executionInfo": {
     "elapsed": 670,
     "status": "ok",
     "timestamp": 1659456523715,
     "user": {
      "displayName": "Diego Bouzada",
      "userId": "17943271668333651695"
     },
     "user_tz": 180
    },
    "id": "d93c64a6",
    "outputId": "de992c3d-3a26-4454-ee18-06b6847d84bb"
   },
   "outputs": [],
   "source": [
    "# Calculo del F1 score\n",
    "print(f\"F1 Score of the classifier is: {f1_score(y_test, predictions, pos_label='positive', average='micro')}\")"
   ]
  },
  {
   "cell_type": "code",
   "execution_count": null,
   "id": "y_87TLNzloWD",
   "metadata": {
    "colab": {
     "base_uri": "https://localhost:8080/"
    },
    "executionInfo": {
     "elapsed": 285,
     "status": "ok",
     "timestamp": 1659456523994,
     "user": {
      "displayName": "Diego Bouzada",
      "userId": "17943271668333651695"
     },
     "user_tz": 180
    },
    "id": "y_87TLNzloWD",
    "outputId": "0a32740f-45f4-48c1-ed39-0a1f875c8fc3"
   },
   "outputs": [],
   "source": [
    "print(classification_report(y_test, predictions))"
   ]
  },
  {
   "cell_type": "markdown",
   "id": "0aa577d2-c376-44b8-80a4-1be075b5161b",
   "metadata": {
    "id": "31f2372d-27cb-45b3-9475-011348206347",
    "tags": []
   },
   "source": [
    "# Ensemble con Votting con el Modelo de Random Forest "
   ]
  },
  {
   "cell_type": "code",
   "execution_count": null,
   "id": "b9ac3e9e-7b26-45da-ba02-67b88346a900",
   "metadata": {
    "executionInfo": {
     "elapsed": 45,
     "status": "ok",
     "timestamp": 1659456633107,
     "user": {
      "displayName": "Diego Bouzada",
      "userId": "17943271668333651695"
     },
     "user_tz": 180
    },
    "id": "b9ac3e9e-7b26-45da-ba02-67b88346a900"
   },
   "outputs": [],
   "source": [
    "# Definimos el modelo de ensamble usando VotingClassifier\n",
    "model_vc = VotingClassifier(estimators=[('tree', tree_cat),('svc', model_SVC),('rf',model_rf)], voting='hard')"
   ]
  },
  {
   "cell_type": "code",
   "execution_count": null,
   "id": "5bbb3953-c18a-4f4c-89b7-67a546033c6a",
   "metadata": {
    "colab": {
     "base_uri": "https://localhost:8080/"
    },
    "executionInfo": {
     "elapsed": 40638,
     "status": "ok",
     "timestamp": 1659456673705,
     "user": {
      "displayName": "Diego Bouzada",
      "userId": "17943271668333651695"
     },
     "user_tz": 180
    },
    "id": "5bbb3953-c18a-4f4c-89b7-67a546033c6a",
    "outputId": "11da3bc4-c8c8-40cf-b34a-4a130cae8644"
   },
   "outputs": [],
   "source": [
    "model_vc.fit(X_train,y_train)"
   ]
  },
  {
   "cell_type": "code",
   "execution_count": null,
   "id": "c8078735-3e36-43d1-9bdf-b7f5c764eeb9",
   "metadata": {
    "colab": {
     "base_uri": "https://localhost:8080/"
    },
    "executionInfo": {
     "elapsed": 951,
     "status": "ok",
     "timestamp": 1659456674623,
     "user": {
      "displayName": "Diego Bouzada",
      "userId": "17943271668333651695"
     },
     "user_tz": 180
    },
    "id": "c8078735-3e36-43d1-9bdf-b7f5c764eeb9",
    "outputId": "833ba532-ad43-4d01-80e6-7d2a5de35311"
   },
   "outputs": [],
   "source": [
    "model_vc.score(X_test,y_test)"
   ]
  },
  {
   "cell_type": "code",
   "execution_count": null,
   "id": "a411f300-0497-4a1f-b8f4-0242dd4e4c79",
   "metadata": {
    "executionInfo": {
     "elapsed": 1032,
     "status": "ok",
     "timestamp": 1659456675651,
     "user": {
      "displayName": "Diego Bouzada",
      "userId": "17943271668333651695"
     },
     "user_tz": 180
    },
    "id": "a411f300-0497-4a1f-b8f4-0242dd4e4c79"
   },
   "outputs": [],
   "source": [
    "pred_v = model_vc.predict(X_test)"
   ]
  },
  {
   "cell_type": "code",
   "execution_count": null,
   "id": "cc86f2e4-1724-4105-8e94-29a54e95321d",
   "metadata": {
    "colab": {
     "base_uri": "https://localhost:8080/"
    },
    "executionInfo": {
     "elapsed": 729,
     "status": "ok",
     "timestamp": 1659456676375,
     "user": {
      "displayName": "Diego Bouzada",
      "userId": "17943271668333651695"
     },
     "user_tz": 180
    },
    "id": "cc86f2e4-1724-4105-8e94-29a54e95321d",
    "outputId": "7521ed3d-f815-4249-ef4a-a9eeb1127018"
   },
   "outputs": [],
   "source": [
    "print(confusion_matrix(y_test, pred_v))\n",
    "\n",
    "print(classification_report(y_test, pred_v))"
   ]
  },
  {
   "cell_type": "markdown",
   "id": "0ad6e6e1-7547-4a17-ba6c-2be812e30068",
   "metadata": {
    "id": "sDPC10hntBb7"
   },
   "source": [
    "Con el modelo de ensamble Votting Classifier no obtenemos mejoras sobre la mejor metrica que obtvimos con SVC de 0.58\n"
   ]
  }
 ],
 "metadata": {
  "colab": {
   "collapsed_sections": [
    "714085ac-f137-418a-b18a-c96957682c0f",
    "1203f5a2-c524-422c-9a99-c54790e9dd83",
    "b0d9c7f6-5851-427c-bda6-c0bc7f8a1c12",
    "3496ddc4-3c00-4e64-941a-4daee045249d",
    "a2f9ee88-b7f6-4bc9-9bf0-24535b1cc5b1",
    "5714ea0b-f9bd-49e8-9475-d284e0952090",
    "118f368e-e942-48b2-b4da-965d8b90fabe",
    "7d0b6c31",
    "70a0bd50-918b-40d4-83cb-152b411cbaf7",
    "75a23a37-85ca-4921-b368-42c52f1de3e5",
    "f0e778b0-b5a3-4c1a-a89a-5e65cc4032ec",
    "e7ac7518-452a-4eb6-8101-6cfc650a225d",
    "06bdc435-25b7-474b-9601-774b836a0e70",
    "8a694901-ea57-44c5-9a25-cbb5dfcc6f08",
    "5557757a",
    "0bb3065d-5ee7-4232-baaf-12d6a0ed0256",
    "79fb9a8c-1d08-496f-a03e-3ccd875f0c7d",
    "2e85e6f3-2c6c-4719-8eba-b6a32380fb59",
    "ee5f96fd-8ff5-45bd-87fe-c639b0e10613",
    "f59612a3-41ff-45a8-8241-83a57f8bcaa6",
    "ed606550-b528-46d6-aa39-138e5fd6bf44",
    "06026173-5c37-483e-a8d5-877863ac69af",
    "3151a614-315e-47e3-9673-85bc36704dc5",
    "080cbf4c-3f9b-403b-82f0-3d9677331f24"
   ],
   "name": "2da Entrega - Pariente - Bouzada - Hernandez.ipynb",
   "provenance": []
  },
  "kernelspec": {
   "display_name": "Python 3 (ipykernel)",
   "language": "python",
   "name": "python3"
  },
  "language_info": {
   "codemirror_mode": {
    "name": "ipython",
    "version": 3
   },
   "file_extension": ".py",
   "mimetype": "text/x-python",
   "name": "python",
   "nbconvert_exporter": "python",
   "pygments_lexer": "ipython3",
   "version": "3.9.7"
  }
 },
 "nbformat": 4,
 "nbformat_minor": 5
}
